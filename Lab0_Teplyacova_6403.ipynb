{
  "nbformat": 4,
  "nbformat_minor": 0,
  "metadata": {
    "colab": {
      "provenance": [],
      "collapsed_sections": [
        "82OvPKEiEqjc",
        "Vq3EWRIpwSiJ",
        "QtTFyqke3KGe",
        "kNKYIeerx0nY",
        "h-jRAcYCAkkk",
        "gCJGx8IQ87xS",
        "Iy65YJTH99iT",
        "cfvAeZm3S8S8",
        "k86bXnqZTk-U",
        "xanzszhsIlLe",
        "5SgEjCZyGnu6",
        "e7sRGoTXuJze",
        "lAuVHMrlnvTW",
        "w27Ca-_Ku85V",
        "7gau6lKXvn2R",
        "dQ8TuEbjv4J8",
        "AVOpqoY3wE5k",
        "j8I58V2VwhSm",
        "kYdlr0YUxE27",
        "IIrRgvG4RIS4",
        "GIo2t7nNxvA9",
        "sMspsOT0ZB35",
        "mXyzQi1DaIwo"
      ]
    },
    "kernelspec": {
      "name": "python3",
      "display_name": "Python 3"
    }
  },
  "cells": [
    {
      "cell_type": "markdown",
      "metadata": {
        "id": "82OvPKEiEqjc"
      },
      "source": [
        "# Введение в MapReduce модель на Python\n"
      ]
    },
    {
      "cell_type": "code",
      "metadata": {
        "id": "JQ2cvXLjICmI"
      },
      "source": [
        "from typing import NamedTuple, Iterator # requires python 3.6+\n"
      ],
      "execution_count": 110,
      "outputs": []
    },
    {
      "cell_type": "code",
      "metadata": {
        "id": "yjPHumVwEyEg"
      },
      "source": [
        "def MAP(_, row:NamedTuple):\n",
        "  if (row.gender == 'female'):\n",
        "    yield (row.age, row)\n",
        "\n",
        "def REDUCE(age:str, rows:Iterator[NamedTuple]):\n",
        "  sum = 0\n",
        "  count = 0\n",
        "  for row in rows:\n",
        "    sum += row.social_contacts\n",
        "    count += 1\n",
        "  if (count > 0):\n",
        "    yield (age, sum/count)\n",
        "  else:\n",
        "    yield (age, 0)"
      ],
      "execution_count": 111,
      "outputs": []
    },
    {
      "cell_type": "markdown",
      "metadata": {
        "id": "vBKMgpG_ilaZ"
      },
      "source": [
        "Модель элемента данных"
      ]
    },
    {
      "cell_type": "code",
      "metadata": {
        "id": "Rv-XIjhTJPx3"
      },
      "source": [
        "class User(NamedTuple):\n",
        "  id: int\n",
        "  age: str\n",
        "  social_contacts: int\n",
        "  gender: str"
      ],
      "execution_count": 112,
      "outputs": []
    },
    {
      "cell_type": "code",
      "metadata": {
        "id": "5KV0Ze2vQgu5"
      },
      "source": [
        "input_collection = [\n",
        "    User(id=0, age=55, gender='male', social_contacts=20),\n",
        "    User(id=1, age=25, gender='female', social_contacts=240),\n",
        "    User(id=2, age=25, gender='female', social_contacts=500),\n",
        "    User(id=3, age=33, gender='female', social_contacts=800)\n",
        "]"
      ],
      "execution_count": 113,
      "outputs": []
    },
    {
      "cell_type": "markdown",
      "metadata": {
        "id": "YFeqzyZxZIFZ"
      },
      "source": [
        "Функция RECORDREADER моделирует чтение элементов с диска или по сети."
      ]
    },
    {
      "cell_type": "code",
      "metadata": {
        "id": "S5HR4E_GQoMJ"
      },
      "source": [
        "def RECORDREADER():\n",
        "  return [(u.id, u) for u in input_collection]"
      ],
      "execution_count": 114,
      "outputs": []
    },
    {
      "cell_type": "code",
      "metadata": {
        "id": "NeEoWla-ROUy",
        "colab": {
          "base_uri": "https://localhost:8080/"
        },
        "outputId": "4455e63d-801c-43f4-f3ae-59abe8ac97dd"
      },
      "source": [
        "list(RECORDREADER())"
      ],
      "execution_count": 115,
      "outputs": [
        {
          "output_type": "execute_result",
          "data": {
            "text/plain": [
              "[(0, User(id=0, age=55, social_contacts=20, gender='male')),\n",
              " (1, User(id=1, age=25, social_contacts=240, gender='female')),\n",
              " (2, User(id=2, age=25, social_contacts=500, gender='female')),\n",
              " (3, User(id=3, age=33, social_contacts=800, gender='female'))]"
            ]
          },
          "metadata": {},
          "execution_count": 115
        }
      ]
    },
    {
      "cell_type": "code",
      "metadata": {
        "id": "YB8orgPSZs8M"
      },
      "source": [
        "def flatten(nested_iterable):\n",
        "  for iterable in nested_iterable:\n",
        "    for element in iterable:\n",
        "      yield element"
      ],
      "execution_count": 116,
      "outputs": []
    },
    {
      "cell_type": "code",
      "metadata": {
        "id": "74oyvDLaRmd5",
        "colab": {
          "base_uri": "https://localhost:8080/"
        },
        "outputId": "ce3997d2-52e7-467e-a90e-08a8b0cc1b35"
      },
      "source": [
        "map_output = flatten(map(lambda x: MAP(*x), RECORDREADER()))\n",
        "map_output = list(map_output) # materialize\n",
        "map_output"
      ],
      "execution_count": 117,
      "outputs": [
        {
          "output_type": "execute_result",
          "data": {
            "text/plain": [
              "[(25, User(id=1, age=25, social_contacts=240, gender='female')),\n",
              " (25, User(id=2, age=25, social_contacts=500, gender='female')),\n",
              " (33, User(id=3, age=33, social_contacts=800, gender='female'))]"
            ]
          },
          "metadata": {},
          "execution_count": 117
        }
      ]
    },
    {
      "cell_type": "code",
      "metadata": {
        "id": "8ncYDJ3-VzDn"
      },
      "source": [
        "def groupbykey(iterable):\n",
        "  t = {}\n",
        "  for (k2, v2) in iterable:\n",
        "    t[k2] = t.get(k2, []) + [v2]\n",
        "  return t.items()"
      ],
      "execution_count": 118,
      "outputs": []
    },
    {
      "cell_type": "code",
      "metadata": {
        "id": "cKzY_6COWOA2",
        "colab": {
          "base_uri": "https://localhost:8080/"
        },
        "outputId": "386a8046-2405-4681-ff5e-6da12601f1ee"
      },
      "source": [
        "shuffle_output = groupbykey(map_output)\n",
        "shuffle_output = list(shuffle_output)\n",
        "shuffle_output"
      ],
      "execution_count": 119,
      "outputs": [
        {
          "output_type": "execute_result",
          "data": {
            "text/plain": [
              "[(25,\n",
              "  [User(id=1, age=25, social_contacts=240, gender='female'),\n",
              "   User(id=2, age=25, social_contacts=500, gender='female')]),\n",
              " (33, [User(id=3, age=33, social_contacts=800, gender='female')])]"
            ]
          },
          "metadata": {},
          "execution_count": 119
        }
      ]
    },
    {
      "cell_type": "code",
      "metadata": {
        "id": "NlA7lkDDYL0t",
        "colab": {
          "base_uri": "https://localhost:8080/"
        },
        "outputId": "efb76072-cf4b-434e-d40b-e86ca8b19aca"
      },
      "source": [
        "reduce_output = flatten(map(lambda x: REDUCE(*x), shuffle_output))\n",
        "reduce_output = list(reduce_output)\n",
        "reduce_output"
      ],
      "execution_count": 120,
      "outputs": [
        {
          "output_type": "execute_result",
          "data": {
            "text/plain": [
              "[(25, 370.0), (33, 800.0)]"
            ]
          },
          "metadata": {},
          "execution_count": 120
        }
      ]
    },
    {
      "cell_type": "markdown",
      "metadata": {
        "id": "xf6qhHEtd6bI"
      },
      "source": [
        "Все действия одним конвейером!"
      ]
    },
    {
      "cell_type": "code",
      "metadata": {
        "id": "dZaQGYxCdpw5",
        "colab": {
          "base_uri": "https://localhost:8080/"
        },
        "outputId": "a0052103-874c-4f61-c6d5-6441303a6933"
      },
      "source": [
        "list(flatten(map(lambda x: REDUCE(*x), groupbykey(flatten(map(lambda x: MAP(*x), RECORDREADER()))))))"
      ],
      "execution_count": 121,
      "outputs": [
        {
          "output_type": "execute_result",
          "data": {
            "text/plain": [
              "[(25, 370.0), (33, 800.0)]"
            ]
          },
          "metadata": {},
          "execution_count": 121
        }
      ]
    },
    {
      "cell_type": "markdown",
      "metadata": {
        "id": "Vq3EWRIpwSiJ"
      },
      "source": [
        "# **MapReduce**\n",
        "Выделим общую для всех пользователей часть системы в отдельную функцию высшего порядка. Это наиболее простая модель MapReduce, без учёта распределённого хранения данных.\n",
        "\n",
        "Пользователь для решения своей задачи реализует RECORDREADER, MAP, REDUCE."
      ]
    },
    {
      "cell_type": "code",
      "metadata": {
        "id": "V1PZeQMwwVjc"
      },
      "source": [
        "def flatten(nested_iterable):\n",
        "  for iterable in nested_iterable:\n",
        "    for element in iterable:\n",
        "      yield element\n",
        "\n",
        "def groupbykey(iterable):\n",
        "  t = {}\n",
        "  for (k2, v2) in iterable:\n",
        "    t[k2] = t.get(k2, []) + [v2]\n",
        "  return t.items()\n",
        "\n",
        "def MapReduce(RECORDREADER, MAP, REDUCE):\n",
        "  return flatten(map(lambda x: REDUCE(*x), groupbykey(flatten(map(lambda x: MAP(*x), RECORDREADER())))))"
      ],
      "execution_count": 122,
      "outputs": []
    },
    {
      "cell_type": "markdown",
      "metadata": {
        "id": "iFIVrimep678"
      },
      "source": [
        "## Спецификация MapReduce\n",
        "\n",
        "\n",
        "\n",
        "```\n",
        "f (k1, v1) -> (k2,v2)*\n",
        "g (k2, v2*) -> (k3,v3)*\n",
        "\n",
        "mapreduce ((k1,v1)*) -> (k3,v3)*\n",
        "groupby ((k2,v2)*) -> (k2,v2*)*\n",
        "flatten (e2**) -> e2*\n",
        "\n",
        "mapreduce .map(f).flatten.groupby(k2).map(g).flatten\n",
        "```\n",
        "\n",
        "\n"
      ]
    },
    {
      "cell_type": "markdown",
      "metadata": {
        "id": "QtTFyqke3KGe"
      },
      "source": [
        "# Примеры"
      ]
    },
    {
      "cell_type": "markdown",
      "metadata": {
        "id": "BNhh5763w5Vn"
      },
      "source": [
        "## SQL"
      ]
    },
    {
      "cell_type": "code",
      "metadata": {
        "id": "QkyurnvGxBGk",
        "colab": {
          "base_uri": "https://localhost:8080/"
        },
        "outputId": "ed508bab-685f-493c-c957-9ef8ba599112"
      },
      "source": [
        "from typing import NamedTuple, Iterator # requires python 3.6+\n",
        "\n",
        "\n",
        "class User(NamedTuple):\n",
        "  id: int\n",
        "  age: str\n",
        "  social_contacts: int\n",
        "  gender: str\n",
        "\n",
        "input_collection = [\n",
        "    User(id=0, age=55, gender='male', social_contacts=20),\n",
        "    User(id=1, age=25, gender='female', social_contacts=240),\n",
        "    User(id=2, age=25, gender='female', social_contacts=500),\n",
        "    User(id=3, age=33, gender='female', social_contacts=800)\n",
        "]\n",
        "\n",
        "def MAP(_, row:NamedTuple):\n",
        "  if (row.gender == 'female'):\n",
        "    yield (row.age, row)\n",
        "\n",
        "def REDUCE(age:str, rows:Iterator[NamedTuple]):\n",
        "  sum = 0\n",
        "  count = 0\n",
        "  for row in rows:\n",
        "    sum += row.social_contacts\n",
        "    count += 1\n",
        "  if (count > 0):\n",
        "    yield (age, sum/count)\n",
        "  else:\n",
        "    yield (age, 0)\n",
        "\n",
        "def RECORDREADER():\n",
        "  return [(u.id, u) for u in input_collection]\n",
        "\n",
        "output = MapReduce(RECORDREADER, MAP, REDUCE)\n",
        "output = list(output)\n",
        "output"
      ],
      "execution_count": 123,
      "outputs": [
        {
          "output_type": "execute_result",
          "data": {
            "text/plain": [
              "[(25, 370.0), (33, 800.0)]"
            ]
          },
          "metadata": {},
          "execution_count": 123
        }
      ]
    },
    {
      "cell_type": "markdown",
      "metadata": {
        "id": "kNKYIeerx0nY"
      },
      "source": [
        "## Matrix-Vector multiplication"
      ]
    },
    {
      "cell_type": "code",
      "metadata": {
        "id": "rwcntRcCyi1V",
        "colab": {
          "base_uri": "https://localhost:8080/"
        },
        "outputId": "78c6f74c-8bea-4bcc-f9e9-ab0519f102d5"
      },
      "source": [
        "\n",
        "import numpy as np\n",
        "\n",
        "mat = np.ones((5,4))\n",
        "vec = np.random.rand(4) # in-memory vector in all map tasks\n",
        "\n",
        "def MAP(coordinates:(int, int), value:int):\n",
        "  i, j = coordinates\n",
        "  yield (i, value*vec[j])\n",
        "\n",
        "def REDUCE(i:int, products:Iterator[NamedTuple]):\n",
        "  sum = 0\n",
        "  for p in products:\n",
        "    sum += p\n",
        "  yield (i, sum)\n",
        "\n",
        "def RECORDREADER():\n",
        "  for i in range(mat.shape[0]):\n",
        "    for j in range(mat.shape[1]):\n",
        "      yield ((i, j), mat[i,j])\n",
        "\n",
        "output = MapReduce(RECORDREADER, MAP, REDUCE)\n",
        "output = list(output)\n",
        "output"
      ],
      "execution_count": 124,
      "outputs": [
        {
          "output_type": "execute_result",
          "data": {
            "text/plain": [
              "[(0, 2.0189403144375144),\n",
              " (1, 2.0189403144375144),\n",
              " (2, 2.0189403144375144),\n",
              " (3, 2.0189403144375144),\n",
              " (4, 2.0189403144375144)]"
            ]
          },
          "metadata": {},
          "execution_count": 124
        }
      ]
    },
    {
      "cell_type": "markdown",
      "metadata": {
        "id": "ruZREYdi2o4O"
      },
      "source": [
        "## Inverted index"
      ]
    },
    {
      "cell_type": "code",
      "metadata": {
        "id": "vt9H9Alf3TYv",
        "colab": {
          "base_uri": "https://localhost:8080/"
        },
        "outputId": "d195b6e9-19b2-48da-c3a9-ba677bb29ce8"
      },
      "source": [
        "from typing import Iterator\n",
        "\n",
        "d1 = \"it is what it is\"\n",
        "d2 = \"what is it\"\n",
        "d3 = \"it is a banana\"\n",
        "documents = [d1, d2, d3]\n",
        "\n",
        "def RECORDREADER():\n",
        "  for (docid, document) in enumerate(documents):\n",
        "    yield (\"{}\".format(docid), document)\n",
        "\n",
        "def MAP(docId:str, body:str):\n",
        "  for word in set(body.split(' ')):\n",
        "    yield (word, docId)\n",
        "\n",
        "def REDUCE(word:str, docIds:Iterator[str]):\n",
        "  yield (word, sorted(docIds))\n",
        "\n",
        "output = MapReduce(RECORDREADER, MAP, REDUCE)\n",
        "output = list(output)\n",
        "output"
      ],
      "execution_count": 125,
      "outputs": [
        {
          "output_type": "execute_result",
          "data": {
            "text/plain": [
              "[('it', ['0', '1', '2']),\n",
              " ('what', ['0', '1']),\n",
              " ('is', ['0', '1', '2']),\n",
              " ('a', ['2']),\n",
              " ('banana', ['2'])]"
            ]
          },
          "metadata": {},
          "execution_count": 125
        }
      ]
    },
    {
      "cell_type": "markdown",
      "metadata": {
        "id": "R7az-6DA6qr2"
      },
      "source": [
        "## WordCount"
      ]
    },
    {
      "cell_type": "code",
      "metadata": {
        "id": "dN-nbtgG6uYG",
        "colab": {
          "base_uri": "https://localhost:8080/"
        },
        "outputId": "de68d11b-00d8-4668-82f2-c8eb46aa5df7"
      },
      "source": [
        "\n",
        "\n",
        "d1 = \"\"\"\n",
        "it is what it is\n",
        "it is what it is\n",
        "it is what it is\"\"\"\n",
        "d2 = \"\"\"\n",
        "what is it\n",
        "what is it\"\"\"\n",
        "d3 = \"\"\"\n",
        "it is a banana\"\"\"\n",
        "documents = [d1, d2, d3]\n",
        "\n",
        "def RECORDREADER():\n",
        "  for (docid, document) in enumerate(documents):\n",
        "    for (lineid, line) in enumerate(document.split('\\n')):\n",
        "      yield (\"{}:{}\".format(docid,lineid), line)\n",
        "\n",
        "def MAP(docId:str, line:str):\n",
        "  for word in line.split(\" \"):\n",
        "    yield (word, 1)\n",
        "\n",
        "def REDUCE(word:str, counts:Iterator[int]):\n",
        "  sum = 0\n",
        "  for c in counts:\n",
        "    sum += c\n",
        "  yield (word, sum)\n",
        "\n",
        "output = MapReduce(RECORDREADER, MAP, REDUCE)\n",
        "output = list(output)\n",
        "output"
      ],
      "execution_count": 126,
      "outputs": [
        {
          "output_type": "execute_result",
          "data": {
            "text/plain": [
              "[('', 3), ('it', 9), ('is', 9), ('what', 5), ('a', 1), ('banana', 1)]"
            ]
          },
          "metadata": {},
          "execution_count": 126
        }
      ]
    },
    {
      "cell_type": "markdown",
      "metadata": {
        "id": "h-jRAcYCAkkk"
      },
      "source": [
        "# MapReduce Distributed\n",
        "\n",
        "Добавляется в модель фабрика RECORDREARER-ов --- INPUTFORMAT, функция распределения промежуточных результатов по партициям PARTITIONER, и функция COMBINER для частичной аггрегации промежуточных результатов до распределения по новым партициям."
      ]
    },
    {
      "cell_type": "code",
      "metadata": {
        "id": "nw-b-xJsApgW"
      },
      "source": [
        "def flatten(nested_iterable):\n",
        "  for iterable in nested_iterable:\n",
        "    for element in iterable:\n",
        "      yield element\n",
        "\n",
        "def groupbykey(iterable):\n",
        "  t = {}\n",
        "  for (k2, v2) in iterable:\n",
        "    t[k2] = t.get(k2, []) + [v2]\n",
        "  return t.items()\n",
        "\n",
        "def groupbykey_distributed(map_partitions, PARTITIONER):\n",
        "  global reducers\n",
        "  partitions = [dict() for _ in range(reducers)]\n",
        "  for map_partition in map_partitions:\n",
        "    for (k2, v2) in map_partition:\n",
        "      p = partitions[PARTITIONER(k2)]\n",
        "      p[k2] = p.get(k2, []) + [v2]\n",
        "  return [(partition_id, sorted(partition.items(), key=lambda x: x[0])) for (partition_id, partition) in enumerate(partitions)]\n",
        "\n",
        "def PARTITIONER(obj):\n",
        "  global reducers\n",
        "  return hash(obj) % reducers\n",
        "\n",
        "def MapReduceDistributed(INPUTFORMAT, MAP, REDUCE, PARTITIONER=PARTITIONER, COMBINER=None):\n",
        "  map_partitions = map(lambda record_reader: flatten(map(lambda k1v1: MAP(*k1v1), record_reader)), INPUTFORMAT())\n",
        "  if COMBINER != None:\n",
        "    map_partitions = map(lambda map_partition: flatten(map(lambda k2v2: COMBINER(*k2v2), groupbykey(map_partition))), map_partitions)\n",
        "  reduce_partitions = groupbykey_distributed(map_partitions, PARTITIONER) # shuffle\n",
        "  reduce_outputs = map(lambda reduce_partition: (reduce_partition[0], flatten(map(lambda reduce_input_group: REDUCE(*reduce_input_group), reduce_partition[1]))), reduce_partitions)\n",
        "\n",
        "  print(\"{} key-value pairs were sent over a network.\".format(sum([len(vs) for (k,vs) in flatten([partition for (partition_id, partition) in reduce_partitions])])))\n",
        "  return reduce_outputs"
      ],
      "execution_count": 127,
      "outputs": []
    },
    {
      "cell_type": "markdown",
      "metadata": {
        "id": "kxirlf3XqZxY"
      },
      "source": [
        "## Спецификация MapReduce Distributed\n",
        "\n",
        "\n",
        "```\n",
        "f (k1, v1) -> (k2,v2)*\n",
        "g (k2, v2*) -> (k3,v3)*\n",
        "\n",
        "e1 (k1, v1)\n",
        "e2 (k2, v2)\n",
        "partition1 (k2, v2)*\n",
        "partition2 (k2, v2*)*\n",
        "\n",
        "flatmap (e1->e2*, e1*) -> partition1*\n",
        "groupby (partition1*) -> partition2*\n",
        "\n",
        "mapreduce ((k1,v1)*) -> (k3,v3)*\n",
        "mapreduce .flatmap(f).groupby(k2).flatmap(g)\n",
        "```\n",
        "\n"
      ]
    },
    {
      "cell_type": "markdown",
      "metadata": {
        "id": "CWYw_CpbbY3C"
      },
      "source": [
        "## WordCount"
      ]
    },
    {
      "cell_type": "code",
      "metadata": {
        "id": "uR_zfGFkMZlp",
        "colab": {
          "base_uri": "https://localhost:8080/"
        },
        "outputId": "2dd22f0f-6bbe-4b36-915c-d6eb836fdac3"
      },
      "source": [
        "\n",
        "import numpy as np\n",
        "\n",
        "d1 = \"\"\"\n",
        "it is what it is\n",
        "it is what it is\n",
        "it is what it is\"\"\"\n",
        "d2 = \"\"\"\n",
        "what is it\n",
        "what is it\"\"\"\n",
        "d3 = \"\"\"\n",
        "it is a banana\"\"\"\n",
        "documents = [d1, d2, d3, d1, d2, d3]\n",
        "\n",
        "maps = 3\n",
        "reducers = 2\n",
        "\n",
        "def INPUTFORMAT():\n",
        "  global maps\n",
        "\n",
        "  def RECORDREADER(split):\n",
        "    for (docid, document) in enumerate(split):\n",
        "      for (lineid, line) in enumerate(document.split('\\n')):\n",
        "        yield (\"{}:{}\".format(docid,lineid), line)\n",
        "\n",
        "  split_size =  int(np.ceil(len(documents)/maps))\n",
        "  for i in range(0, len(documents), split_size):\n",
        "    yield RECORDREADER(documents[i:i+split_size])\n",
        "\n",
        "def MAP(docId:str, line:str):\n",
        "  for word in line.split(\" \"):\n",
        "    yield (word, 1)\n",
        "\n",
        "def REDUCE(word:str, counts:Iterator[int]):\n",
        "  sum = 0\n",
        "  for c in counts:\n",
        "    sum += c\n",
        "  yield (word, sum)\n",
        "\n",
        "# try to set COMBINER=REDUCER and look at the number of values sent over the network\n",
        "partitioned_output = MapReduceDistributed(INPUTFORMAT, MAP, REDUCE, COMBINER=None)\n",
        "partitioned_output = [(partition_id, list(partition)) for (partition_id, partition) in partitioned_output]\n",
        "partitioned_output"
      ],
      "execution_count": 128,
      "outputs": [
        {
          "output_type": "stream",
          "name": "stdout",
          "text": [
            "56 key-value pairs were sent over a network.\n"
          ]
        },
        {
          "output_type": "execute_result",
          "data": {
            "text/plain": [
              "[(0, [('', 6), ('it', 18), ('what', 10)]),\n",
              " (1, [('a', 2), ('banana', 2), ('is', 18)])]"
            ]
          },
          "metadata": {},
          "execution_count": 128
        }
      ]
    },
    {
      "cell_type": "markdown",
      "metadata": {
        "id": "gCJGx8IQ87xS"
      },
      "source": [
        "## TeraSort"
      ]
    },
    {
      "cell_type": "code",
      "metadata": {
        "id": "P2v8v1v_8_YR"
      },
      "source": [
        "# import numpy as np\n",
        "\n",
        "# input_values = np.random.rand(30)\n",
        "# maps = 3\n",
        "# reducers = 2\n",
        "# min_value = 0.0\n",
        "# max_value = 1.0\n",
        "\n",
        "# def INPUTFORMAT():\n",
        "#   global maps\n",
        "\n",
        "#   def RECORDREADER(split):\n",
        "#     for value in split:\n",
        "#         yield (value, None)\n",
        "\n",
        "#   split_size =  int(np.ceil(len(input_values)/maps))\n",
        "#   for i in range(0, len(input_values), split_size):\n",
        "#     yield RECORDREADER(input_values[i:i+split_size])\n",
        "\n",
        "# def MAP(value:int, _):\n",
        "#   yield (value, None)\n",
        "\n",
        "# def PARTITIONER(key):\n",
        "#   global reducers\n",
        "#   global max_value\n",
        "#   global min_value\n",
        "#   bucket_size = (max_value-min_value)/reducers\n",
        "#   bucket_id = 0\n",
        "#   while((key>(bucket_id+1)*bucket_size) and ((bucket_id+1)*bucket_size<max_value)):\n",
        "#     bucket_id += 1\n",
        "#   return bucket_id\n",
        "\n",
        "# def REDUCE(value:int, _):\n",
        "#   yield (None,value)\n",
        "\n",
        "# partitioned_output = MapReduceDistributed(INPUTFORMAT, MAP, REDUCE, COMBINER=None, PARTITIONER=PARTITIONER)\n",
        "# partitioned_output = [(partition_id, list(partition)) for (partition_id, partition) in partitioned_output]\n",
        "# partitioned_output"
      ],
      "execution_count": 129,
      "outputs": []
    },
    {
      "cell_type": "markdown",
      "metadata": {
        "id": "Iy65YJTH99iT"
      },
      "source": [
        "# Упражнения\n",
        "Упражнения взяты из Rajaraman A., Ullman J. D. Mining of massive datasets. – Cambridge University Press, 2011.\n",
        "\n",
        "\n",
        "Для выполнения заданий переопределите функции RECORDREADER, MAP, REDUCE. Для модели распределённой системы может потребоваться переопределение функций PARTITION и COMBINER."
      ]
    },
    {
      "cell_type": "markdown",
      "metadata": {
        "id": "cfvAeZm3S8S8"
      },
      "source": [
        "### Максимальное значение ряда\n",
        "\n",
        "Разработайте MapReduce алгоритм, который находит максимальное число входного списка чисел."
      ]
    },
    {
      "cell_type": "code",
      "metadata": {
        "id": "3GRA1JR-Tkbg",
        "colab": {
          "base_uri": "https://localhost:8080/"
        },
        "outputId": "f8b8ee62-7e96-489e-a7b8-791b4932ada4"
      },
      "source": [
        "from typing import NamedTuple, Iterator\n",
        "\n",
        "class Number(NamedTuple):\n",
        "    value: int\n",
        "\n",
        "input_collection = [\n",
        "    Number(value=10),\n",
        "    Number(value=25),\n",
        "    Number(value=15),\n",
        "    Number(value=40),\n",
        "    Number(value=30),\n",
        "]\n",
        "\n",
        "# Для каждого числа передаёт саму цифру в качестве ключа\n",
        "def MAP(_, row: NamedTuple):\n",
        "    yield (\"max\", row.value)\n",
        "\n",
        "# Находит максимальное значение среди всех чисел\n",
        "def REDUCE(key: str, values: Iterator[int]):\n",
        "    max_value = max(values)\n",
        "    yield (key, max_value)\n",
        "\n",
        "# Преобразует коллекцию в формат, подходящий для MapReduce\n",
        "def RECORDREADER():\n",
        "    return [(i, num) for i, num in enumerate(input_collection)]\n",
        "\n",
        "# Выполнение MapReduce\n",
        "output = MapReduce(RECORDREADER, MAP, REDUCE)\n",
        "output = list(output)\n",
        "output"
      ],
      "execution_count": 130,
      "outputs": [
        {
          "output_type": "execute_result",
          "data": {
            "text/plain": [
              "[('max', 40)]"
            ]
          },
          "metadata": {},
          "execution_count": 130
        }
      ]
    },
    {
      "cell_type": "markdown",
      "metadata": {
        "id": "k86bXnqZTk-U"
      },
      "source": [
        "### Арифметическое среднее\n",
        "\n",
        "Разработайте MapReduce алгоритм, который находит арифметическое среднее.\n",
        "\n",
        "$$\\overline{X} = \\frac{1}{n}\\sum_{i=0}^{n} x_i$$\n"
      ]
    },
    {
      "cell_type": "code",
      "metadata": {
        "id": "MPoY5pkfUNZf",
        "colab": {
          "base_uri": "https://localhost:8080/"
        },
        "outputId": "af2f7cb3-bf0a-4c5c-fce8-f60497746d66"
      },
      "source": [
        "from typing import NamedTuple, Iterator\n",
        "\n",
        "class Number(NamedTuple):\n",
        "    value: int\n",
        "\n",
        "input_collection = [\n",
        "    Number(value=10),\n",
        "    Number(value=10)\n",
        "]\n",
        "\n",
        "# Для каждого числа передаёт саму цифру и 1, чтобы учитывать количество чисел\n",
        "def MAP(_, row: NamedTuple):\n",
        "    yield (\"mean\", (row.value, 1))\n",
        "\n",
        "# Суммирует все значения и считает количество\n",
        "def REDUCE(key: str, values: Iterator[tuple]):\n",
        "    total_sum = 0\n",
        "    count = 0\n",
        "    for value, cnt in values:\n",
        "        total_sum += value\n",
        "        count += cnt\n",
        "    if count > 0:\n",
        "        mean = total_sum / count\n",
        "        yield (key, mean)\n",
        "    else:\n",
        "        yield (key, 0)\n",
        "\n",
        "# Преобразует коллекцию в формат, подходящий для MapReduce\n",
        "def RECORDREADER():\n",
        "    return [(i, num) for i, num in enumerate(input_collection)]\n",
        "\n",
        "output = MapReduce(RECORDREADER, MAP, REDUCE)\n",
        "output = list(output)\n",
        "output"
      ],
      "execution_count": 131,
      "outputs": [
        {
          "output_type": "execute_result",
          "data": {
            "text/plain": [
              "[('mean', 10.0)]"
            ]
          },
          "metadata": {},
          "execution_count": 131
        }
      ]
    },
    {
      "cell_type": "markdown",
      "metadata": {
        "id": "xanzszhsIlLe"
      },
      "source": [
        "### GroupByKey на основе сортировки\n",
        "\n",
        "Реализуйте groupByKey на основе сортировки, проверьте его работу на примерах"
      ]
    },
    {
      "cell_type": "code",
      "metadata": {
        "id": "hQPn3USsIkEC",
        "colab": {
          "base_uri": "https://localhost:8080/"
        },
        "outputId": "07888436-6941-479a-c649-b56989de7022"
      },
      "source": [
        "from typing import NamedTuple, Iterator\n",
        "\n",
        "class Number(NamedTuple):\n",
        "    key: str\n",
        "    value: int\n",
        "\n",
        "input_collection = [\n",
        "    Number(key=\"A\", value=10),\n",
        "    Number(key=\"B\", value=25),\n",
        "    Number(key=\"A\", value=15),\n",
        "    Number(key=\"C\", value=40),\n",
        "    Number(key=\"B\", value=30),\n",
        "    Number(key=\"C\", value=5),\n",
        "]\n",
        "\n",
        "# Для каждого числа передает его ключ и значение\n",
        "def MAP(_, row: NamedTuple):\n",
        "    yield (row.key, row.value)\n",
        "\n",
        "# Группирует значения по ключам\n",
        "def REDUCE(key: str, values: Iterator[int]):\n",
        "    group = list(values)\n",
        "    yield (key, group)\n",
        "\n",
        "# Преобразует коллекцию в формат, подходящий для MapReduce\n",
        "def RECORDREADER():\n",
        "    return [(i, num) for i, num in enumerate(input_collection)]\n",
        "\n",
        "# Для имитации MapReduce с сортировкой\n",
        "def MapReduceWithSorting(RECORDREADER, MAP, REDUCE):\n",
        "    records = RECORDREADER()\n",
        "\n",
        "    # Применяется MAP\n",
        "    mapped = []\n",
        "    for key, value in records:\n",
        "        mapped.extend(MAP(key, value))\n",
        "\n",
        "    # Сортируется по ключу\n",
        "    mapped.sort(key=lambda x: x[0])\n",
        "\n",
        "    # Применяется REDUCE\n",
        "    from itertools import groupby\n",
        "    output = []\n",
        "    for key, group in groupby(mapped, key=lambda x: x[0]):\n",
        "        values = [x[1] for x in group]\n",
        "        output.extend(REDUCE(key, values))\n",
        "\n",
        "    return output\n",
        "\n",
        "# Выполнение MapReduce с сортировкой\n",
        "output = MapReduceWithSorting(RECORDREADER, MAP, REDUCE)\n",
        "output = list(output)\n",
        "output\n"
      ],
      "execution_count": 132,
      "outputs": [
        {
          "output_type": "execute_result",
          "data": {
            "text/plain": [
              "[('A', [10, 15]), ('B', [25, 30]), ('C', [40, 5])]"
            ]
          },
          "metadata": {},
          "execution_count": 132
        }
      ]
    },
    {
      "cell_type": "markdown",
      "metadata": {
        "id": "5SgEjCZyGnu6"
      },
      "source": [
        "### Drop duplicates (set construction, unique elements, distinct)\n",
        "\n",
        "Реализуйте распределённую операцию исключения дубликатов"
      ]
    },
    {
      "cell_type": "code",
      "source": [
        "from typing import NamedTuple, Iterator\n",
        "import numpy as np\n",
        "\n",
        "class Number(NamedTuple):\n",
        "    key: str\n",
        "    value: int\n",
        "\n",
        "input_collection = [\n",
        "    Number(key=\"A\", value=10),\n",
        "    Number(key=\"B\", value=25),\n",
        "    Number(key=\"A\", value=15),\n",
        "    Number(key=\"C\", value=40),\n",
        "    Number(key=\"B\", value=30),\n",
        "    Number(key=\"C\", value=5),\n",
        "]\n",
        "\n",
        "maps = 3\n",
        "reducers = 3\n",
        "\n",
        "def INPUTFORMAT():\n",
        "    global maps\n",
        "\n",
        "    # Функция для чтения записей из \"раздела\" (split)\n",
        "    def RECORDREADER(split):\n",
        "        for index, record in enumerate(split):\n",
        "            yield (index, record)\n",
        "\n",
        "    # Определяет размер раздела (split_size) для мапперов\n",
        "    split_size = int(np.ceil(len(input_collection) / maps))\n",
        "    # Генерирует разделы для мапперов\n",
        "    for i in range(0, len(input_collection), split_size):\n",
        "        yield RECORDREADER(input_collection[i : i + split_size])\n",
        "\n",
        "#  Возвращает пару (ключ, запись)\n",
        "def MAP(_, number: Number):\n",
        "    yield (number.key, number)\n",
        "\n",
        "# Из всех записей с одинаковым ключом остаётся первая встретившаяся\n",
        "def REDUCE(key: str, numbers: Iterator[Number]):\n",
        "    yield next(iter(numbers))\n",
        "\n",
        "partitioned_output = MapReduceDistributed(INPUTFORMAT, MAP, REDUCE, PARTITIONER=PARTITIONER, COMBINER=None)\n",
        "partitioned_output = [(partition_id, list(partition)) for (partition_id, partition) in partitioned_output]\n",
        "partitioned_output\n"
      ],
      "metadata": {
        "colab": {
          "base_uri": "https://localhost:8080/"
        },
        "id": "D_oY9WGvQmfp",
        "outputId": "5899532d-ca62-4c05-9f54-f681c809ea40"
      },
      "execution_count": 133,
      "outputs": [
        {
          "output_type": "stream",
          "name": "stdout",
          "text": [
            "6 key-value pairs were sent over a network.\n"
          ]
        },
        {
          "output_type": "execute_result",
          "data": {
            "text/plain": [
              "[(0, [Number(key='B', value=25)]),\n",
              " (1, [Number(key='A', value=10)]),\n",
              " (2, [Number(key='C', value=40)])]"
            ]
          },
          "metadata": {},
          "execution_count": 133
        }
      ]
    },
    {
      "cell_type": "markdown",
      "metadata": {
        "id": "e7sRGoTXuJze"
      },
      "source": [
        "#Операторы реляционной алгебры\n",
        "\n"
      ]
    },
    {
      "cell_type": "markdown",
      "source": [
        "### Selection (Выборка)\n",
        "\n",
        "**The Map Function**: Для  каждого кортежа $t \\in R$ вычисляется истинность предиката $C$. В случае истины создаётся пара ключ-значение $(t, t)$. В паре ключ и значение одинаковы, равны $t$.\n",
        "\n",
        "**The Reduce Function:** Роль функции Reduce выполняет функция идентичности, которая возвращает то же значение, что получила на вход."
      ],
      "metadata": {
        "id": "lAuVHMrlnvTW"
      }
    },
    {
      "cell_type": "code",
      "metadata": {
        "id": "4nKIKe59uIfc",
        "colab": {
          "base_uri": "https://localhost:8080/"
        },
        "outputId": "df3f56d8-9c47-4709-a2d1-2f7d5efd7723"
      },
      "source": [
        "from typing import NamedTuple, Iterator\n",
        "\n",
        "class Item(NamedTuple):\n",
        "    id: int\n",
        "    value: int\n",
        "\n",
        "input_collection = [\n",
        "    Item(id=1, value=10),\n",
        "    Item(id=2, value=25),\n",
        "    Item(id=3, value=5),\n",
        "    Item(id=4, value=30),\n",
        "    Item(id=5, value=15),\n",
        "]\n",
        "\n",
        "# Предикат для выборки: условие на значение\n",
        "# Пример: выбираем элементы, где значение больше 10\n",
        "def predicate(t: Item) -> bool:\n",
        "    return t.value > 10\n",
        "\n",
        "# Если предикат истинен, возвращает пару (t, t)\n",
        "def MAP(_, row: NamedTuple):\n",
        "    if predicate(row):\n",
        "        yield (row, row)\n",
        "\n",
        "# Возвращает ключ\n",
        "def REDUCE(key: NamedTuple, values: Iterator[NamedTuple]):\n",
        "    for value in values:\n",
        "        yield value\n",
        "\n",
        "def RECORDREADER():\n",
        "    return [(i, item) for i, item in enumerate(input_collection)]\n",
        "\n",
        "output = MapReduce(RECORDREADER, MAP, REDUCE)\n",
        "output = list(output)\n",
        "output"
      ],
      "execution_count": 134,
      "outputs": [
        {
          "output_type": "execute_result",
          "data": {
            "text/plain": [
              "[Item(id=2, value=25), Item(id=4, value=30), Item(id=5, value=15)]"
            ]
          },
          "metadata": {},
          "execution_count": 134
        }
      ]
    },
    {
      "cell_type": "markdown",
      "metadata": {
        "id": "w27Ca-_Ku85V"
      },
      "source": [
        "### Projection (Проекция)\n",
        "\n",
        "Проекция на множество атрибутов $S$.\n",
        "\n",
        "**The Map Function:** Для каждого кортежа $t \\in R$ создайте кортеж $t′$, исключая  из $t$ те значения, атрибуты которых не принадлежат  $S$. Верните пару $(t′, t′)$.\n",
        "\n",
        "**The Reduce Function:** Для каждого ключа $t′$, созданного любой Map задачей, вы получаете одну или несколько пар $(t′, t′)$. Reduce функция преобразует $(t′, [t′, t′, . . . , t′])$ в $(t′, t′)$, так, что для ключа $t′$ возвращается одна пара  $(t′, t′)$."
      ]
    },
    {
      "cell_type": "code",
      "metadata": {
        "id": "BEvuY4GqvhS6",
        "colab": {
          "base_uri": "https://localhost:8080/"
        },
        "outputId": "b52b81a7-8198-4a41-bb4d-9183669f6e31"
      },
      "source": [
        "def RECORDREADER():\n",
        "    return [\n",
        "        ('Alice', 30, 'Engineer', 'USA'),\n",
        "        ('Bob', 25, 'Designer', 'Canada'),\n",
        "        ('Charlie', 35, 'Artist', 'UK')\n",
        "    ]\n",
        "\n",
        "# Множество атрибутов S (в данном случае имя (0) и профессия (2))\n",
        "S = {0, 2}\n",
        "\n",
        "# Функция MAP - исключает атрибуты, не принадлежащие S, и создает пару (t', t')\n",
        "def MAP(*record):\n",
        "    t_prime = tuple(record[i] for i in S)\n",
        "    return (t_prime, t_prime)\n",
        "\n",
        "# Функция REDUCE - сводит все элементы с одинаковым ключом в одну пару (t', t')\n",
        "# Для каждого ключа возвращает одну пару (t', t')\n",
        "def REDUCE(key, values):\n",
        "    unique_values = set(values)\n",
        "    return (key, list(unique_values))\n",
        "\n",
        "result = MapReduce(RECORDREADER, MAP, REDUCE)\n",
        "print(list(result))"
      ],
      "execution_count": 135,
      "outputs": [
        {
          "output_type": "stream",
          "name": "stdout",
          "text": [
            "['Alice', ['Engineer'], 'Bob', ['Designer'], 'Charlie', ['Artist']]\n"
          ]
        }
      ]
    },
    {
      "cell_type": "markdown",
      "metadata": {
        "id": "7gau6lKXvn2R"
      },
      "source": [
        "### Union (Объединение)\n",
        "\n",
        "**The Map Function:** Превратите каждый входной кортеж $t$ в пару ключ-значение $(t, t)$.\n",
        "\n",
        "**The Reduce Function:** С каждым ключом $t$ будет ассоциировано одно или два значений. В обоих случаях создайте $(t, t)$ в качестве выходного значения."
      ]
    },
    {
      "cell_type": "code",
      "metadata": {
        "id": "Sns7a5agv3nw",
        "colab": {
          "base_uri": "https://localhost:8080/"
        },
        "outputId": "9232dc59-5082-47c7-c0fc-58b3eccbd7b6"
      },
      "source": [
        "from typing import NamedTuple, Iterator\n",
        "\n",
        "class Item(NamedTuple):\n",
        "    id: int\n",
        "    value: int\n",
        "\n",
        "input_collection = [\n",
        "    Item(id=1, value=10),\n",
        "    Item(id=2, value=25),\n",
        "    Item(id=3, value=5),\n",
        "    Item(id=4, value=30),\n",
        "    Item(id=5, value=15),\n",
        "]\n",
        "\n",
        "# Для каждого элемента создает пару (t, t)\n",
        "def MAP(_, row: NamedTuple):\n",
        "    yield (row, row)\n",
        "\n",
        "# Независимо от количества значений возвращает пару (t, t)\n",
        "def REDUCE(key: NamedTuple, values: Iterator[NamedTuple]):\n",
        "    for value in values:\n",
        "        yield (value, value)\n",
        "\n",
        "def RECORDREADER():\n",
        "    return [(i, item) for i, item in enumerate(input_collection)]\n",
        "\n",
        "output = MapReduce(RECORDREADER, MAP, REDUCE)\n",
        "output = list(output)\n",
        "output"
      ],
      "execution_count": 136,
      "outputs": [
        {
          "output_type": "execute_result",
          "data": {
            "text/plain": [
              "[(Item(id=1, value=10), Item(id=1, value=10)),\n",
              " (Item(id=2, value=25), Item(id=2, value=25)),\n",
              " (Item(id=3, value=5), Item(id=3, value=5)),\n",
              " (Item(id=4, value=30), Item(id=4, value=30)),\n",
              " (Item(id=5, value=15), Item(id=5, value=15))]"
            ]
          },
          "metadata": {},
          "execution_count": 136
        }
      ]
    },
    {
      "cell_type": "markdown",
      "metadata": {
        "id": "dQ8TuEbjv4J8"
      },
      "source": [
        "### Intersection (Пересечение)\n",
        "\n",
        "**The Map Function:** Превратите каждый кортеж $t$ в пары ключ-значение $(t, t)$.\n",
        "\n",
        "**The Reduce Function:** Если для ключа $t$ есть список из двух элементов $[t, t]$ $-$ создайте пару $(t, t)$. Иначе, ничего не создавайте."
      ]
    },
    {
      "cell_type": "code",
      "metadata": {
        "id": "XKlBZh4IwERR",
        "colab": {
          "base_uri": "https://localhost:8080/"
        },
        "outputId": "2013f64e-cb20-4ef1-ff7c-03b6a76815da"
      },
      "source": [
        "from typing import NamedTuple, Iterator\n",
        "\n",
        "class Item(NamedTuple):\n",
        "    id: int\n",
        "    value: int\n",
        "\n",
        "input_collection = [\n",
        "    Item(id=1, value=10),\n",
        "    Item(id=2, value=25),\n",
        "    Item(id=3, value=5),\n",
        "    Item(id=4, value=30),\n",
        "    Item(id=5, value=15),\n",
        "    Item(id=6, value=25),\n",
        "    Item(id=7, value=10),\n",
        "]\n",
        "\n",
        "# Используем значение как ключ\n",
        "def MAP(_, row: NamedTuple):\n",
        "    yield (row.value, row)\n",
        "\n",
        "# Если значение встречается более одного раза,\n",
        "# то возвращает все значения, которые соответствуют ключу\n",
        "def REDUCE(key: int, values: Iterator[NamedTuple]):\n",
        "    value_list = list(values)\n",
        "    if len(value_list) > 1:\n",
        "        for value in value_list:\n",
        "            yield value\n",
        "\n",
        "def RECORDREADER():\n",
        "    return [(i, item) for i, item in enumerate(input_collection)]\n",
        "\n",
        "output = MapReduce(RECORDREADER, MAP, REDUCE)\n",
        "output = list(output)\n",
        "for item in output:\n",
        "    print(item)"
      ],
      "execution_count": 137,
      "outputs": [
        {
          "output_type": "stream",
          "name": "stdout",
          "text": [
            "Item(id=1, value=10)\n",
            "Item(id=7, value=10)\n",
            "Item(id=2, value=25)\n",
            "Item(id=6, value=25)\n"
          ]
        }
      ]
    },
    {
      "cell_type": "markdown",
      "metadata": {
        "id": "AVOpqoY3wE5k"
      },
      "source": [
        "### Difference (Разница)\n",
        "\n",
        "**The Map Function:** Для кортежа $t \\in R$, создайте пару $(t, R)$, и для кортежа $t \\in S$, создайте пару $(t, S)$. Задумка заключается в том, чтобы значение пары было именем отношения $R$ or $S$, которому принадлежит кортеж (а лучше, единичный бит, по которому можно два отношения различить $R$ or $S$), а не весь набор атрибутов отношения.\n",
        "\n",
        "**The Reduce Function:** Для каждого ключа $t$, если соответствующее значение является списком $[R]$, создайте пару $(t, t)$. В иных случаях не предпринимайте действий."
      ]
    },
    {
      "cell_type": "code",
      "source": [
        "from typing import NamedTuple, Iterator\n",
        "\n",
        "class Item(NamedTuple):\n",
        "    id: int\n",
        "    value: int\n",
        "\n",
        "# Отношения R и S\n",
        "R = [\n",
        "    Item(id=1, value=10),\n",
        "    Item(id=2, value=25),\n",
        "    Item(id=3, value=5),\n",
        "]\n",
        "\n",
        "S = [\n",
        "    Item(id=4, value=30),\n",
        "    Item(id=5, value=15),\n",
        "    Item(id=1, value=10),\n",
        "]\n",
        "\n",
        "def MAP(collection_id, item: Item):\n",
        "    yield (item, collection_id)\n",
        "\n",
        "# Возвращает элемент только если он входит в R, но не в S\n",
        "def REDUCE(item: Item, collections):\n",
        "    if collections == [0]:  # 0 соответствует R, 1 соответствует S\n",
        "        yield item\n",
        "\n",
        "def RECORDREADER():\n",
        "    return [(0, r) for r in R] + [(1, s) for s in S]\n",
        "\n",
        "output = MapReduce(RECORDREADER, MAP, REDUCE)\n",
        "output = list(output)\n",
        "output\n"
      ],
      "metadata": {
        "colab": {
          "base_uri": "https://localhost:8080/"
        },
        "id": "aYTVMLAHmPSI",
        "outputId": "00b7e762-798b-4152-8afe-fa622f63aa90"
      },
      "execution_count": 138,
      "outputs": [
        {
          "output_type": "execute_result",
          "data": {
            "text/plain": [
              "[Item(id=2, value=25), Item(id=3, value=5)]"
            ]
          },
          "metadata": {},
          "execution_count": 138
        }
      ]
    },
    {
      "cell_type": "markdown",
      "metadata": {
        "id": "j8I58V2VwhSm"
      },
      "source": [
        "### Natural Join\n",
        "\n",
        "**The Map Function:** Для каждого кортежа $(a, b)$ отношения $R$, создайте пару $(b,(R, a))$. Для каждого кортежа $(b, c)$ отношения $S$, создайте пару $(b,(S, c))$.\n",
        "\n",
        "**The Reduce Function:** Каждый ключ $b$ будет асоциирован со списком пар, которые принимают форму либо $(R, a)$, либо $(S, c)$. Создайте все пары, одни, состоящие из  первого компонента $R$, а другие, из первого компонента $S$, то есть $(R, a)$ и $(S, c)$. На выходе вы получаете последовательность пар ключ-значение из списков ключей и значений. Ключ не нужен. Каждое значение, это тройка $(a, b, c)$ такая, что $(R, a)$ и $(S, c)$ это принадлежат входному списку значений."
      ]
    },
    {
      "cell_type": "code",
      "metadata": {
        "id": "yHiuuTctw86I",
        "colab": {
          "base_uri": "https://localhost:8080/"
        },
        "outputId": "0dee3193-b39c-4c54-96aa-10addd3e7174"
      },
      "source": [
        "from typing import NamedTuple, Iterator\n",
        "\n",
        "class RItem(NamedTuple):\n",
        "    a: int\n",
        "    b: int\n",
        "\n",
        "class SItem(NamedTuple):\n",
        "    b: int\n",
        "    c: int\n",
        "\n",
        "# Отношения R и S\n",
        "R = [\n",
        "    RItem(a=1, b=10),\n",
        "    RItem(a=2, b=20),\n",
        "    RItem(a=3, b=30),\n",
        "]\n",
        "\n",
        "S = [\n",
        "    SItem(b=10, c=100),\n",
        "    SItem(b=20, c=200),\n",
        "    SItem(b=30, c=300),\n",
        "    SItem(b=20, c=250),\n",
        "]\n",
        "\n",
        "# Для каждого кортежа (a, b) из R создает пару (b, (R, a))\n",
        "# Для каждого кортежа (b, c) из S создает пару (b, (S, c))\n",
        "def MAP(_, row: NamedTuple):\n",
        "    if isinstance(row, RItem):\n",
        "        yield (row.b, (\"R\", row.a))\n",
        "    elif isinstance(row, SItem):\n",
        "        yield (row.b, (\"S\", row.c))\n",
        "\n",
        "def REDUCE(key: int, values: Iterator[tuple]):\n",
        "    r_values = []\n",
        "    s_values = []\n",
        "\n",
        "    # Разделяет значения на (R, a) и (S, c)\n",
        "    for value in values:\n",
        "        if value[0] == \"R\":\n",
        "            # Добавление a\n",
        "            r_values.append(value[1])\n",
        "        elif value[0] == \"S\":\n",
        "            # Добавление c\n",
        "            s_values.append(value[1])\n",
        "\n",
        "    # Создает все возможные тройки (a, b, c)\n",
        "    for a in r_values:\n",
        "        for c in s_values:\n",
        "            yield (a, key, c)\n",
        "\n",
        "def RECORDREADER():\n",
        "    return [(i, item) for i, item in enumerate(R)] + [(i, item) for i, item in enumerate(S)]\n",
        "\n",
        "\n",
        "output = MapReduce(RECORDREADER, MAP, REDUCE)\n",
        "output = list(output)\n",
        "output"
      ],
      "execution_count": 139,
      "outputs": [
        {
          "output_type": "execute_result",
          "data": {
            "text/plain": [
              "[(1, 10, 100), (2, 20, 200), (2, 20, 250), (3, 30, 300)]"
            ]
          },
          "metadata": {},
          "execution_count": 139
        }
      ]
    },
    {
      "cell_type": "markdown",
      "metadata": {
        "id": "kYdlr0YUxE27"
      },
      "source": [
        "### Grouping and Aggregation (Группировка и аггрегация)\n",
        "\n",
        "**The Map Function:** Для каждого кортежа $(a, b, c$) создайте пару $(a, b)$.\n",
        "\n",
        "**The Reduce Function:** Ключ представляет ту или иную группу. Примение аггрегирующую операцию $\\theta$ к списку значений $[b1, b2, . . . , bn]$ ассоциированных с ключом $a$. Возвращайте в выходной поток $(a, x)$, где $x$ результат применения  $\\theta$ к списку. Например, если $\\theta$ это $SUM$, тогда $x = b1 + b2 + · · · + bn$, а если $\\theta$ is $MAX$, тогда $x$ это максимальное из значений $b1, b2, . . . , bn$."
      ]
    },
    {
      "cell_type": "code",
      "metadata": {
        "id": "MLPckfEGxico",
        "colab": {
          "base_uri": "https://localhost:8080/"
        },
        "outputId": "714fdf15-6ae0-4c36-f833-5c07988f09cf"
      },
      "source": [
        "from typing import NamedTuple, Iterator\n",
        "\n",
        "class Item(NamedTuple):\n",
        "    a: int\n",
        "    b: int\n",
        "    c: int\n",
        "\n",
        "# Входные данные\n",
        "data = [\n",
        "    Item(a=1, b=10, c=100),\n",
        "    Item(a=1, b=20, c=200),\n",
        "    Item(a=2, b=15, c=150),\n",
        "    Item(a=2, b=25, c=250),\n",
        "    Item(a=1, b=30, c=300),\n",
        "]\n",
        "\n",
        "# Для каждого кортежа (a, b, c) создает пару (a, b)\n",
        "def MAP(_, row: NamedTuple):\n",
        "    yield (row.a, row.b)\n",
        "\n",
        "def REDUCE(key: int, values: Iterator[int]):\n",
        "    value_list = list(values)\n",
        "    result = sum(value_list)\n",
        "\n",
        "    # Возвращает результат (a, x)\n",
        "    yield (key, result)\n",
        "\n",
        "def RECORDREADER():\n",
        "    return [(i, item) for i, item in enumerate(data)]\n",
        "\n",
        "# Выполнение MapReduce с операцией SUM\n",
        "output = MapReduce(RECORDREADER, MAP, REDUCE)\n",
        "output = list(output)\n",
        "print(\"Результат SUM:\", output)"
      ],
      "execution_count": 140,
      "outputs": [
        {
          "output_type": "stream",
          "name": "stdout",
          "text": [
            "Результат SUM: [(1, 60), (2, 40)]\n"
          ]
        }
      ]
    },
    {
      "cell_type": "markdown",
      "metadata": {
        "id": "IIrRgvG4RIS4"
      },
      "source": [
        "### Matrix-Vector multiplication\n",
        "\n",
        "Случай, когда вектор не помещается в памяти Map задачи\n"
      ]
    },
    {
      "cell_type": "code",
      "metadata": {
        "id": "KQhDbiL3zS9r",
        "colab": {
          "base_uri": "https://localhost:8080/"
        },
        "outputId": "d8819d78-9023-4555-dbd4-d5c409107c5a"
      },
      "source": [
        "from typing import NamedTuple, Iterator, List, Tuple\n",
        "\n",
        "class MatrixElement(NamedTuple):\n",
        "    row: int\n",
        "    col: int\n",
        "    value: float\n",
        "\n",
        "class VectorElement(NamedTuple):\n",
        "    index: int\n",
        "    value: float\n",
        "\n",
        "# Матрица A (разреженное представление)\n",
        "A = [\n",
        "    MatrixElement(row=0, col=0, value=2),\n",
        "    MatrixElement(row=0, col=1, value=3),\n",
        "    MatrixElement(row=1, col=0, value=4),\n",
        "    MatrixElement(row=1, col=1, value=5),\n",
        "]\n",
        "\n",
        "# Вектор b (разреженное представление)\n",
        "b = [\n",
        "    VectorElement(index=0, value=1),\n",
        "    VectorElement(index=1, value=2),\n",
        "]\n",
        "\n",
        "# Глобальный словарь вектора для удобства\n",
        "vector_dict = {v.index: v.value for v in b}\n",
        "\n",
        "# Каждый элемент (i, j, A_ij) передается с ключом i\n",
        "def MAP(_, row: MatrixElement):\n",
        "    yield (row.row, (row.col, row.value))\n",
        "\n",
        "# Вычисляет скалярное произведение строки i на вектор b\n",
        "def REDUCE(i: int, values: Iterator[Tuple[int, float]]):\n",
        "    result = 0\n",
        "    # Умножение происходит только если есть значение вектора b_j\n",
        "    for j, A_ij in values:\n",
        "        if j in vector_dict:\n",
        "            result += A_ij * vector_dict[j]\n",
        "    yield (i, result)\n",
        "\n",
        "def RECORDREADER():\n",
        "    return [(el.row, el) for el in A]\n",
        "\n",
        "# Запуск MapReduce\n",
        "output = MapReduce(RECORDREADER, MAP, REDUCE)\n",
        "output = list(output)\n",
        "print(\"Результат умножения матрицы на вектор:\", output)"
      ],
      "execution_count": 141,
      "outputs": [
        {
          "output_type": "stream",
          "name": "stdout",
          "text": [
            "Результат умножения матрицы на вектор: [(0, 8), (1, 14)]\n"
          ]
        }
      ]
    },
    {
      "cell_type": "markdown",
      "metadata": {
        "id": "GIo2t7nNxvA9"
      },
      "source": [
        "## Matrix multiplication (Перемножение матриц)\n",
        "\n",
        "Если у нас есть матрица $M$ с элементами $m_{ij}$ в строке $i$ и столбце $j$, и матрица $N$ с элементами $n_{jk}$ в строке $j$ и столбце $k$, тогда их произведение $P = MN$ есть матрица $P$ с элементами $p_{ik}$ в строке $i$ и столбце $k$, где\n",
        "\n",
        "$$p_{ik} =\\sum_{j} m_{ij}n_{jk}$$\n",
        "\n",
        "Необходимым требованием является одинаковое количество столбцов в $M$ и строк в $N$, чтобы операция суммирования по  $j$ была осмысленной. Мы можем размышлять о матрице, как об отношении с тремя атрибутами: номер строки, номер столбца, само значение. Таким образом матрица $M$ предстваляется как отношение $ M(I, J, V )$, с кортежами $(i, j, m_{ij})$, и, аналогично, матрица $N$ представляется как отношение $N(J, K, W)$, с кортежами $(j, k, n_{jk})$. Так как большие матрицы как правило разреженные (большинство значений равно 0), и так как мы можем нулевыми значениями пренебречь (не хранить), такое реляционное представление достаточно эффективно для больших матриц. Однако, возможно, что координаты $i$, $j$, и $k$ неявно закодированы в смещение позиции элемента относительно начала файла, вместо явного хранения. Тогда, функция Map (или Reader) должна быть разработана таким образом, чтобы реконструировать компоненты $I$, $J$, и $K$ кортежей из смещения.\n",
        "\n",
        "Произведение $MN$ это фактически join, за которым следуют группировка по ключу и аггрегация. Таким образом join отношений $M(I, J, V )$ и $N(J, K, W)$, имеющих общим только атрибут $J$, создаст кортежи $(i, j, k, v, w)$ из каждого кортежа $(i, j, v) \\in M$ и кортежа $(j, k, w) \\in N$. Такой 5 компонентный кортеж представляет пару элементов матрицы $(m_{ij} , n_{jk})$. Что нам хотелось бы получить на самом деле, это произведение этих элементов, то есть, 4 компонентный кортеж$(i, j, k, v \\times w)$, так как он представляет произведение $m_{ij}n_{jk}$. Мы представляем отношение как результат одной MapReduce операции, в которой мы можем произвести группировку и аггрегацию, с $I$ и $K$  атрибутами, по которым идёт группировка, и суммой  $V \\times W$.\n",
        "\n",
        "\n",
        "\n"
      ]
    },
    {
      "cell_type": "code",
      "metadata": {
        "id": "1MBkGaLAYVCt"
      },
      "source": [
        "# MapReduce model\n",
        "def flatten(nested_iterable):\n",
        "  for iterable in nested_iterable:\n",
        "    for element in iterable:\n",
        "      yield element\n",
        "\n",
        "def groupbykey(iterable):\n",
        "  t = {}\n",
        "  for (k2, v2) in iterable:\n",
        "    t[k2] = t.get(k2, []) + [v2]\n",
        "  return t.items()\n",
        "\n",
        "def MapReduce(RECORDREADER, MAP, REDUCE):\n",
        "  return flatten(map(lambda x: REDUCE(*x), groupbykey(flatten(map(lambda x: MAP(*x), RECORDREADER())))))"
      ],
      "execution_count": 142,
      "outputs": []
    },
    {
      "cell_type": "markdown",
      "metadata": {
        "id": "sMspsOT0ZB35"
      },
      "source": [
        "# Реализуйте перемножение матриц с использованием модельного кода MapReduce для одной машины в случае, когда одна матрица хранится в памяти, а другая генерируется RECORDREADER-ом."
      ]
    },
    {
      "cell_type": "code",
      "source": [
        "import numpy as np\n",
        "\n",
        "# Размерности матриц\n",
        "I = 2\n",
        "J = 3\n",
        "K = 4 * 10\n",
        "\n",
        "# Генерация случайных матриц\n",
        "small_mat = np.random.rand(I, J)\n",
        "big_mat = np.random.rand(J, K)\n",
        "\n",
        "# Генерирует элементы большой матрицы big_mat построчно\n",
        "def RECORDREADER():\n",
        "    for j in range(big_mat.shape[0]):\n",
        "        for k in range(big_mat.shape[1]):\n",
        "            yield ((j, k), big_mat[j, k])\n",
        "\n",
        "# Получает элементы (j, k, njk) и генерирует (i, k, mij * njk).\n",
        "def MAP(k1, v1):\n",
        "    (j, k) = k1  # Индексы строки и столбца big_mat\n",
        "    w = v1  # Значение njk\n",
        "\n",
        "    # Перебираются все строки small_mat\n",
        "    # По ключу (i, k) вычисляется произведение элементов малой и большой матриц mij * njk\n",
        "    for i in range(small_mat.shape[0]):\n",
        "        mij = small_mat[i, j]\n",
        "        yield ((i, k), mij * w)\n",
        "\n",
        "# Суммирует элементы с одинаковыми ключами (i, k).\n",
        "def REDUCE(key, values):\n",
        "    yield (key, sum(values))\n",
        "\n",
        "# Запуск MapReduce\n",
        "solution = list(MapReduce(RECORDREADER, MAP, REDUCE))\n",
        "print(\"Результат умножения матриц (разреженное представление):\")\n",
        "for (i, k), value in solution:\n",
        "    print(f\"P[{i}, {k}] = {value}\")"
      ],
      "metadata": {
        "colab": {
          "base_uri": "https://localhost:8080/"
        },
        "id": "QmEuy2PUNsK1",
        "outputId": "9c49a592-31f0-421b-ea3e-1cee38201ec6"
      },
      "execution_count": 143,
      "outputs": [
        {
          "output_type": "stream",
          "name": "stdout",
          "text": [
            "Результат умножения матриц (разреженное представление):\n",
            "P[0, 0] = 1.9909768648371624\n",
            "P[1, 0] = 1.4839327217893072\n",
            "P[0, 1] = 0.9393285133100293\n",
            "P[1, 1] = 0.7835556802848624\n",
            "P[0, 2] = 1.068206570666786\n",
            "P[1, 2] = 0.891622950447476\n",
            "P[0, 3] = 0.8568591492471703\n",
            "P[1, 3] = 0.35157764585871815\n",
            "P[0, 4] = 1.0276854526028885\n",
            "P[1, 4] = 0.7287282142917347\n",
            "P[0, 5] = 0.5848353185756127\n",
            "P[1, 5] = 0.5559578968012043\n",
            "P[0, 6] = 1.6455589139617917\n",
            "P[1, 6] = 1.3099489470098709\n",
            "P[0, 7] = 0.7996834234505383\n",
            "P[1, 7] = 0.7317979645898649\n",
            "P[0, 8] = 1.3821297846071805\n",
            "P[1, 8] = 0.9242149871736705\n",
            "P[0, 9] = 1.402252015558998\n",
            "P[1, 9] = 0.9791408020704214\n",
            "P[0, 10] = 1.6004287091990368\n",
            "P[1, 10] = 1.1536370358602142\n",
            "P[0, 11] = 1.7499920013558619\n",
            "P[1, 11] = 1.2922279899147107\n",
            "P[0, 12] = 0.8681565042034252\n",
            "P[1, 12] = 0.8404881051137794\n",
            "P[0, 13] = 0.9655880548470549\n",
            "P[1, 13] = 0.35297025689754186\n",
            "P[0, 14] = 1.548888337384756\n",
            "P[1, 14] = 1.1087241140744102\n",
            "P[0, 15] = 1.06477862450919\n",
            "P[1, 15] = 1.0509722932622778\n",
            "P[0, 16] = 0.9606604386666251\n",
            "P[1, 16] = 0.4047478871969288\n",
            "P[0, 17] = 0.9927623649520871\n",
            "P[1, 17] = 0.631271928700249\n",
            "P[0, 18] = 1.5020587334059352\n",
            "P[1, 18] = 0.9177339855305315\n",
            "P[0, 19] = 1.1094985254542473\n",
            "P[1, 19] = 0.68579535603188\n",
            "P[0, 20] = 1.2169765055714938\n",
            "P[1, 20] = 0.7169568725608388\n",
            "P[0, 21] = 1.5509525909687691\n",
            "P[1, 21] = 0.9404556308275811\n",
            "P[0, 22] = 1.2953093857304108\n",
            "P[1, 22] = 1.0392042772168155\n",
            "P[0, 23] = 0.9632462571706548\n",
            "P[1, 23] = 0.7040367552625273\n",
            "P[0, 24] = 1.1868127203992407\n",
            "P[1, 24] = 0.7166755052393519\n",
            "P[0, 25] = 0.8593629123483433\n",
            "P[1, 25] = 0.7892435775806459\n",
            "P[0, 26] = 1.2051640809924566\n",
            "P[1, 26] = 0.64226211946666\n",
            "P[0, 27] = 1.0488706573744562\n",
            "P[1, 27] = 0.9140886517905014\n",
            "P[0, 28] = 0.7245290019801395\n",
            "P[1, 28] = 0.5755758087780437\n",
            "P[0, 29] = 1.8356772376289898\n",
            "P[1, 29] = 1.3553687240640282\n",
            "P[0, 30] = 1.5910009678077879\n",
            "P[1, 30] = 1.074166160220071\n",
            "P[0, 31] = 1.116631728525612\n",
            "P[1, 31] = 0.7788936516901774\n",
            "P[0, 32] = 1.0162450268380487\n",
            "P[1, 32] = 0.7225106804398975\n",
            "P[0, 33] = 0.8160266507424166\n",
            "P[1, 33] = 0.36747135185539803\n",
            "P[0, 34] = 1.5562442161660732\n",
            "P[1, 34] = 1.006772170561286\n",
            "P[0, 35] = 1.4868340176861374\n",
            "P[1, 35] = 1.0270237817895902\n",
            "P[0, 36] = 1.6357130315243342\n",
            "P[1, 36] = 1.2202626699455386\n",
            "P[0, 37] = 0.7933132078418854\n",
            "P[1, 37] = 0.6535628442640076\n",
            "P[0, 38] = 0.5917508194641874\n",
            "P[1, 38] = 0.41221525602925424\n",
            "P[0, 39] = 1.693925202733678\n",
            "P[1, 39] = 1.1106842267096249\n"
          ]
        }
      ]
    },
    {
      "cell_type": "markdown",
      "metadata": {
        "id": "rnt306LHhHrm"
      },
      "source": [
        "Проверьте своё решение"
      ]
    },
    {
      "cell_type": "code",
      "metadata": {
        "id": "Ewy_ZNYqW5a2",
        "colab": {
          "base_uri": "https://localhost:8080/"
        },
        "outputId": "f49c08a3-45e0-432e-f666-628fca527007"
      },
      "source": [
        "# Функция преобразования результата в матрицу\n",
        "def asmatrix(reduce_output):\n",
        "    reduce_output = list(reduce_output)\n",
        "    I = max(i for ((i, k), _) in reduce_output) + 1\n",
        "    K = max(k for ((i, k), _) in reduce_output) + 1\n",
        "    mat = np.zeros((I, K))\n",
        "\n",
        "    for ((i, k), vw) in reduce_output:\n",
        "        mat[i, k] = vw\n",
        "\n",
        "    return mat\n",
        "\n",
        "# Проверка результата\n",
        "reference_solution = np.matmul(small_mat, big_mat)\n",
        "matrix_result = asmatrix(solution)\n",
        "\n",
        "print(\"Проверка:\", np.allclose(reference_solution, matrix_result))"
      ],
      "execution_count": 144,
      "outputs": [
        {
          "output_type": "stream",
          "name": "stdout",
          "text": [
            "Проверка: True\n"
          ]
        }
      ]
    },
    {
      "cell_type": "markdown",
      "metadata": {
        "id": "i4yyg3kOZqJJ"
      },
      "source": [
        "# Реализуйте перемножение матриц  с использованием модельного кода MapReduce для одной машины в случае, когда обе матрицы генерируются в RECORDREADER. Например, сначала одна, а потом другая."
      ]
    },
    {
      "cell_type": "code",
      "metadata": {
        "id": "3B7rIAJCaHZq",
        "colab": {
          "base_uri": "https://localhost:8080/"
        },
        "outputId": "9e1cde81-2d61-47c5-d02b-443b565e75ac"
      },
      "source": [
        "import numpy as np\n",
        "\n",
        "# Размерности матриц\n",
        "I = 2\n",
        "J = 3\n",
        "K = 4 * 10\n",
        "\n",
        "# Генерация случайных матриц\n",
        "small_mat = np.random.rand(I, J)\n",
        "big_mat = np.random.rand(J, K)\n",
        "\n",
        "# Генерирует элементы для обеих матриц: small_mat и big_mat\n",
        "def RECORDREADER():\n",
        "    for j in range(big_mat.shape[0]):\n",
        "        for k in range(big_mat.shape[1]):\n",
        "            yield (('big', j, k), big_mat[j, k])\n",
        "\n",
        "    for i in range(small_mat.shape[0]):\n",
        "        for j in range(small_mat.shape[1]):\n",
        "            yield (('small', i, j), small_mat[i, j])\n",
        "\n",
        "# Обрабатывает элементы из обеих матриц и генерирует результат умножения.\n",
        "def MAP(k1, v1):\n",
        "    source, i_or_j, k = k1\n",
        "\n",
        "    # Генерация пар - ((строка, столбец), произведение)\n",
        "    if source == 'big':\n",
        "        for i in range(small_mat.shape[0]):\n",
        "            mij = small_mat[i, i_or_j]\n",
        "            yield ((i, k), mij * v1)\n",
        "\n",
        "# Суммирует элементы с одинаковыми ключами (i, k)\n",
        "def REDUCE(key, values):\n",
        "    yield (key, sum(values))\n",
        "\n",
        "# Запуск MapReduce\n",
        "solution = list(MapReduce(RECORDREADER, MAP, REDUCE))\n",
        "print(\"Результат умножения матриц (разреженное представление):\")\n",
        "for (i, k), value in solution:\n",
        "    print(f\"P[{i}, {k}] = {value}\")"
      ],
      "execution_count": 145,
      "outputs": [
        {
          "output_type": "stream",
          "name": "stdout",
          "text": [
            "Результат умножения матриц (разреженное представление):\n",
            "P[0, 0] = 0.2599188600497855\n",
            "P[1, 0] = 0.4193481821504058\n",
            "P[0, 1] = 0.5920585299426786\n",
            "P[1, 1] = 1.2323158738576225\n",
            "P[0, 2] = 0.15277996541515196\n",
            "P[1, 2] = 0.40566587164941076\n",
            "P[0, 3] = 0.233963879753182\n",
            "P[1, 3] = 0.4092715054753247\n",
            "P[0, 4] = 0.5621191773877945\n",
            "P[1, 4] = 1.1152168777652787\n",
            "P[0, 5] = 0.9325887472849338\n",
            "P[1, 5] = 1.6345633645326756\n",
            "P[0, 6] = 0.7298271109797266\n",
            "P[1, 6] = 1.3236740728604663\n",
            "P[0, 7] = 0.6517303850480753\n",
            "P[1, 7] = 0.9115172605621634\n",
            "P[0, 8] = 0.4482700627192492\n",
            "P[1, 8] = 1.073793981862095\n",
            "P[0, 9] = 1.017861246391572\n",
            "P[1, 9] = 1.5276167136709273\n",
            "P[0, 10] = 0.706820127467511\n",
            "P[1, 10] = 1.1070219868939024\n",
            "P[0, 11] = 0.673965022621339\n",
            "P[1, 11] = 1.4785484311773738\n",
            "P[0, 12] = 0.7788084538593332\n",
            "P[1, 12] = 0.892820729532794\n",
            "P[0, 13] = 0.8934259972873209\n",
            "P[1, 13] = 1.397050327431598\n",
            "P[0, 14] = 0.7783025300852779\n",
            "P[1, 14] = 1.2448837851350003\n",
            "P[0, 15] = 0.7719586588901538\n",
            "P[1, 15] = 1.3865984303553314\n",
            "P[0, 16] = 0.649269666835748\n",
            "P[1, 16] = 0.6233240004200715\n",
            "P[0, 17] = 1.0350066483284195\n",
            "P[1, 17] = 1.6539339780822546\n",
            "P[0, 18] = 0.4486819001310117\n",
            "P[1, 18] = 0.8839319222448072\n",
            "P[0, 19] = 0.6142271213602084\n",
            "P[1, 19] = 0.8514501024379627\n",
            "P[0, 20] = 0.3964170688106702\n",
            "P[1, 20] = 0.7797343647184564\n",
            "P[0, 21] = 0.8682233182634262\n",
            "P[1, 21] = 1.1561240937980353\n",
            "P[0, 22] = 0.7772449648593807\n",
            "P[1, 22] = 0.9693616171090028\n",
            "P[0, 23] = 0.751459096470172\n",
            "P[1, 23] = 0.9858426092950541\n",
            "P[0, 24] = 0.9484048025131383\n",
            "P[1, 24] = 1.1487659714988698\n",
            "P[0, 25] = 0.6100797953672458\n",
            "P[1, 25] = 1.0026502983633785\n",
            "P[0, 26] = 0.16460731664169778\n",
            "P[1, 26] = 0.2790498324119645\n",
            "P[0, 27] = 0.3653230823772924\n",
            "P[1, 27] = 0.4628421467440641\n",
            "P[0, 28] = 0.7108627585945378\n",
            "P[1, 28] = 0.7320693426270382\n",
            "P[0, 29] = 0.48747239706647766\n",
            "P[1, 29] = 0.8380593011842796\n",
            "P[0, 30] = 0.43624521657348136\n",
            "P[1, 30] = 0.9050008378006703\n",
            "P[0, 31] = 0.7931559183067216\n",
            "P[1, 31] = 0.822859007529328\n",
            "P[0, 32] = 0.5899605876090945\n",
            "P[1, 32] = 1.3039838039269713\n",
            "P[0, 33] = 0.5228626627976934\n",
            "P[1, 33] = 1.321029689826298\n",
            "P[0, 34] = 0.7901835054133279\n",
            "P[1, 34] = 1.1246193441939432\n",
            "P[0, 35] = 0.7793873228695505\n",
            "P[1, 35] = 1.3391172641203821\n",
            "P[0, 36] = 0.4312556784596962\n",
            "P[1, 36] = 0.5801854966038804\n",
            "P[0, 37] = 0.7614275099576144\n",
            "P[1, 37] = 1.0998041571490567\n",
            "P[0, 38] = 0.7247009276435538\n",
            "P[1, 38] = 0.8259184620646868\n",
            "P[0, 39] = 0.6403129305172407\n",
            "P[1, 39] = 0.3942470206031304\n"
          ]
        }
      ]
    },
    {
      "cell_type": "code",
      "source": [
        "# Функция преобразования результата в матрицу\n",
        "def asmatrix(reduce_output):\n",
        "    reduce_output = list(reduce_output)\n",
        "    I = max(i for ((i, k), _) in reduce_output) + 1\n",
        "    K = max(k for ((i, k), _) in reduce_output) + 1\n",
        "    mat = np.zeros((I, K))\n",
        "\n",
        "    for ((i, k), vw) in reduce_output:\n",
        "        mat[i, k] = vw\n",
        "\n",
        "    return mat\n",
        "\n",
        "# Проверка результата\n",
        "reference_solution = np.matmul(small_mat, big_mat)\n",
        "matrix_result = asmatrix(solution)\n",
        "\n",
        "# Сравнение результатов\n",
        "print(\"Проверка:\", np.allclose(reference_solution, matrix_result))\n"
      ],
      "metadata": {
        "colab": {
          "base_uri": "https://localhost:8080/"
        },
        "id": "D24Uqd-kUcXd",
        "outputId": "f4901188-2224-488e-9701-262f30e9f8f5"
      },
      "execution_count": 146,
      "outputs": [
        {
          "output_type": "stream",
          "name": "stdout",
          "text": [
            "Проверка: True\n"
          ]
        }
      ]
    },
    {
      "cell_type": "markdown",
      "metadata": {
        "id": "mXyzQi1DaIwo"
      },
      "source": [
        "# Реализуйте перемножение матриц с использованием модельного кода MapReduce Distributed, когда каждая матрица генерируется в своём RECORDREADER."
      ]
    },
    {
      "cell_type": "code",
      "metadata": {
        "id": "TDM_s78Rb5eR",
        "colab": {
          "base_uri": "https://localhost:8080/"
        },
        "outputId": "f1ce743c-0136-456c-d549-4c33a1e6afc7"
      },
      "source": [
        "import numpy as np\n",
        "\n",
        "I = 2\n",
        "J = 3\n",
        "K = 4 * 10\n",
        "\n",
        "small_mat = np.random.rand(I, J)\n",
        "big_mat = np.random.rand(J, K)\n",
        "\n",
        "maps = 2\n",
        "reducers = 2\n",
        "\n",
        "def INPUTFORMAT():\n",
        "    global maps\n",
        "    def RECORDREADER(i_range):\n",
        "        for i in i_range:\n",
        "            for j in range(J):\n",
        "                for k in range(K):\n",
        "                    # Генерируются пары (индекс строки малой матрицы, индекс столбца большой матрицы)\n",
        "                    # и значение произведения соответствующих элементов\n",
        "                    yield ((i, k), small_mat[i, j] * big_mat[j, k])\n",
        "\n",
        "    split_size = int(np.ceil(I / maps))\n",
        "    for i in range(0, I, split_size):\n",
        "        yield RECORDREADER(range(i, min(i + split_size, I)))\n",
        "\n",
        "# Принимает пару (индекс, значение) и возвращает её без изменений\n",
        "def MAP(pair, value):\n",
        "    yield pair, value\n",
        "\n",
        "# Возвращает сумму значений для данного ключа\n",
        "def REDUCE(key, values):\n",
        "    yield key, sum(values)\n",
        "\n",
        "partitioned_output = MapReduceDistributed(INPUTFORMAT, MAP, REDUCE, COMBINER=REDUCE)\n",
        "\n",
        "# Преобразование в матрицу\n",
        "solution = []\n",
        "for output_part in partitioned_output:\n",
        "    for element in output_part[1]:\n",
        "        solution.append(element)\n",
        "solution"
      ],
      "execution_count": 147,
      "outputs": [
        {
          "output_type": "stream",
          "name": "stdout",
          "text": [
            "80 key-value pairs were sent over a network.\n"
          ]
        },
        {
          "output_type": "execute_result",
          "data": {
            "text/plain": [
              "[((0, 1), 1.1517510236771775),\n",
              " ((0, 2), 1.0240142588834509),\n",
              " ((0, 4), 1.0007479328168578),\n",
              " ((0, 5), 0.8609916681155934),\n",
              " ((0, 8), 0.9636265633285129),\n",
              " ((0, 9), 0.30868590648906696),\n",
              " ((0, 11), 1.1045678575350184),\n",
              " ((0, 12), 1.0830414367351675),\n",
              " ((0, 15), 1.008445124558036),\n",
              " ((0, 16), 0.4340587283789236),\n",
              " ((0, 18), 1.3480248627283218),\n",
              " ((0, 19), 0.5272178364068294),\n",
              " ((0, 22), 0.5440303354526794),\n",
              " ((0, 23), 0.7323056760360698),\n",
              " ((0, 25), 0.6273930518798607),\n",
              " ((0, 26), 0.9625651855020533),\n",
              " ((0, 29), 0.8485193690153491),\n",
              " ((0, 32), 1.2540352351109876),\n",
              " ((0, 33), 0.5407168884785034),\n",
              " ((0, 36), 0.500749570498008),\n",
              " ((0, 39), 1.1110497913446171),\n",
              " ((1, 0), 0.180099087933439),\n",
              " ((1, 1), 0.7253794805906459),\n",
              " ((1, 3), 0.6669489142584013),\n",
              " ((1, 4), 0.5394643421913019),\n",
              " ((1, 7), 0.48672114104467834),\n",
              " ((1, 10), 0.17507149935296615),\n",
              " ((1, 11), 0.6660315428226),\n",
              " ((1, 14), 0.4684403761847726),\n",
              " ((1, 17), 0.062375802993738745),\n",
              " ((1, 18), 0.7961250304329964),\n",
              " ((1, 21), 0.1944978871588865),\n",
              " ((1, 24), 0.34260193674462114),\n",
              " ((1, 25), 0.28211822246344603),\n",
              " ((1, 27), 0.6361885681093742),\n",
              " ((1, 28), 0.49314896191096225),\n",
              " ((1, 31), 0.48939186523948625),\n",
              " ((1, 32), 0.7775173563130993),\n",
              " ((1, 34), 0.31138993794667186),\n",
              " ((1, 35), 0.25454271962023733),\n",
              " ((1, 38), 0.7097629467917702),\n",
              " ((1, 39), 0.604040456319564),\n",
              " ((0, 0), 0.4435284320602405),\n",
              " ((0, 3), 1.0164170013525324),\n",
              " ((0, 6), 0.45585485933433556),\n",
              " ((0, 7), 0.9303308104844028),\n",
              " ((0, 10), 0.36913078375489067),\n",
              " ((0, 13), 0.1707129472040931),\n",
              " ((0, 14), 0.7728757103351694),\n",
              " ((0, 17), 0.29484217482520864),\n",
              " ((0, 20), 0.26132521225072947),\n",
              " ((0, 21), 0.549646363745745),\n",
              " ((0, 24), 0.710658145783484),\n",
              " ((0, 27), 1.1765147324432899),\n",
              " ((0, 28), 0.9880063524931786),\n",
              " ((0, 30), 1.1016753565699995),\n",
              " ((0, 31), 0.7654136153759248),\n",
              " ((0, 34), 0.7373648219065916),\n",
              " ((0, 35), 0.594776469077306),\n",
              " ((0, 37), 0.6153262953672638),\n",
              " ((0, 38), 1.2189969377726668),\n",
              " ((1, 2), 0.6959030655271308),\n",
              " ((1, 5), 0.44661674140276714),\n",
              " ((1, 6), 0.2528702622820626),\n",
              " ((1, 8), 0.533853446051831),\n",
              " ((1, 9), 0.04036608283439084),\n",
              " ((1, 12), 0.7038813043336368),\n",
              " ((1, 13), 0.049042716646899104),\n",
              " ((1, 15), 0.7081905212962615),\n",
              " ((1, 16), 0.13704174919014056),\n",
              " ((1, 19), 0.32500541647186615),\n",
              " ((1, 20), 0.15209852405211816),\n",
              " ((1, 22), 0.2591415814971444),\n",
              " ((1, 23), 0.4260113770322214),\n",
              " ((1, 26), 0.4574812804369697),\n",
              " ((1, 29), 0.3915456295092756),\n",
              " ((1, 30), 0.6827373123677455),\n",
              " ((1, 33), 0.21303860403857527),\n",
              " ((1, 36), 0.265908306597936),\n",
              " ((1, 37), 0.3353440651165195)]"
            ]
          },
          "metadata": {},
          "execution_count": 147
        }
      ]
    },
    {
      "cell_type": "code",
      "source": [
        "# Конвертация результата в numpy матрицу\n",
        "def asmatrix(pairs):\n",
        "    matrix = np.zeros((I, K))\n",
        "    for (i, k), value in pairs:\n",
        "        matrix[i, k] = value\n",
        "    return matrix\n",
        "result_matrix = asmatrix(solution)\n",
        "\n",
        "# Проверка точности\n",
        "reference_solution = small_mat @ big_mat\n",
        "print(np.allclose(reference_solution, result_matrix))"
      ],
      "metadata": {
        "colab": {
          "base_uri": "https://localhost:8080/"
        },
        "id": "9EgIxptrMlEy",
        "outputId": "6af05a5a-6083-4f18-9bb1-9c9d7ac82fcf"
      },
      "execution_count": 148,
      "outputs": [
        {
          "output_type": "stream",
          "name": "stdout",
          "text": [
            "True\n"
          ]
        }
      ]
    },
    {
      "cell_type": "markdown",
      "metadata": {
        "id": "ZuSA2P9Db6UM"
      },
      "source": [
        "# Обобщите предыдущее решение на случай, когда каждая матрица генерируется несколькими RECORDREADER-ами, и проверьте его работоспособность. Будет ли работать решение, если RECORDREADER-ы будут генерировать случайное подмножество элементов матрицы?"
      ]
    },
    {
      "cell_type": "code",
      "metadata": {
        "id": "ehN0FqRDcwU5",
        "colab": {
          "base_uri": "https://localhost:8080/"
        },
        "outputId": "ceaaab48-d2e4-47cd-be82-85812aac16f0"
      },
      "source": [
        "import numpy as np\n",
        "\n",
        "# Размерности матриц\n",
        "I = 2\n",
        "J = 3\n",
        "K = 4 * 10\n",
        "\n",
        "# Генерация случайных матриц\n",
        "small_mat = np.random.rand(I, J)\n",
        "big_mat = np.random.rand(J, K)\n",
        "\n",
        "# Количество мапперов и редьюсеров\n",
        "maps = 2\n",
        "reducers = 2\n",
        "\n",
        "# Генерация входных данных несколькими RECORDREADER-ами\n",
        "def INPUTFORMAT():\n",
        "    def RECORDREADER_SMALL_1():\n",
        "        for i in range(0, I // 3):\n",
        "            for j in range(J):\n",
        "                yield (('small', i, j), small_mat[i, j])\n",
        "\n",
        "    def RECORDREADER_SMALL_2():\n",
        "        for i in range(I // 3, I):\n",
        "            for j in range(J):\n",
        "                yield (('small', i, j), small_mat[i, j])\n",
        "\n",
        "    def RECORDREADER_BIG_1():\n",
        "        for j in range(J):\n",
        "            for k in range(0, K // 3):\n",
        "                yield (('big', j, k), big_mat[j, k])\n",
        "\n",
        "    def RECORDREADER_BIG_2():\n",
        "        for j in range(J):\n",
        "            for k in range(K // 3, K):\n",
        "                yield (('big', j, k), big_mat[j, k])\n",
        "\n",
        "    # Возвращаются генераторы данных\n",
        "    return iter([\n",
        "        RECORDREADER_SMALL_1(),\n",
        "        RECORDREADER_SMALL_2(),\n",
        "        RECORDREADER_BIG_1(),\n",
        "        RECORDREADER_BIG_2(),\n",
        "    ])\n",
        "\n",
        "# Генерирует пары ((i, k), произведение).\n",
        "def MAP(k1, v1):\n",
        "    source, i_or_j, k = k1\n",
        "\n",
        "    if source == 'big':\n",
        "        # Загружаются small_mat локально\n",
        "        for i in range(I):\n",
        "            mij = small_mat[i, i_or_j]\n",
        "            yield ((i, k), mij * v1)\n",
        "\n",
        "# Суммирует элементы с одинаковыми ключами (i, k)\n",
        "def REDUCE(key, values):\n",
        "    yield key, sum(values)\n",
        "\n",
        "# Распределяет ключи между редьюсерами.\n",
        "def PARTITIONER(obj):\n",
        "    global reducers\n",
        "    return hash(obj) % reducers\n",
        "\n",
        "# Запуск MapReduce\n",
        "partitioned_output = MapReduceDistributed(INPUTFORMAT, MAP, REDUCE, PARTITIONER=PARTITIONER, COMBINER=REDUCE)\n",
        "solution = []\n",
        "for output_part in partitioned_output:\n",
        "    for element in output_part[1]:\n",
        "        solution.append(element)\n",
        "solution"
      ],
      "execution_count": 149,
      "outputs": [
        {
          "output_type": "stream",
          "name": "stdout",
          "text": [
            "80 key-value pairs were sent over a network.\n"
          ]
        },
        {
          "output_type": "execute_result",
          "data": {
            "text/plain": [
              "[((0, 1), 0.8401275673221058),\n",
              " ((0, 2), 1.2869981804643742),\n",
              " ((0, 4), 1.2848153011208598),\n",
              " ((0, 5), 0.8152901029771814),\n",
              " ((0, 8), 1.1758593181446244),\n",
              " ((0, 9), 0.9395101066661968),\n",
              " ((0, 11), 1.25722286012607),\n",
              " ((0, 12), 2.026947187777678),\n",
              " ((0, 15), 0.9080555777624724),\n",
              " ((0, 16), 1.164572928130949),\n",
              " ((0, 18), 1.1142790174132142),\n",
              " ((0, 19), 1.420988037394878),\n",
              " ((0, 22), 1.159798001505809),\n",
              " ((0, 23), 1.480931911168756),\n",
              " ((0, 25), 1.1315677498166519),\n",
              " ((0, 26), 0.9802167275673986),\n",
              " ((0, 29), 1.9921491798646997),\n",
              " ((0, 32), 1.21403860304645),\n",
              " ((0, 33), 1.3651961467113847),\n",
              " ((0, 36), 2.21521894944262),\n",
              " ((0, 39), 0.9520550413148559),\n",
              " ((1, 0), 0.9781063263729515),\n",
              " ((1, 1), 0.17841585326405454),\n",
              " ((1, 3), 0.18615368197919346),\n",
              " ((1, 4), 0.5441788886365505),\n",
              " ((1, 7), 0.8067060211858489),\n",
              " ((1, 10), 0.8151114445713934),\n",
              " ((1, 11), 0.3693734126549809),\n",
              " ((1, 14), 0.8579522127753039),\n",
              " ((1, 17), 1.1327221381339017),\n",
              " ((1, 18), 0.6158617183424937),\n",
              " ((1, 21), 0.5814995842266066),\n",
              " ((1, 24), 1.068835699770569),\n",
              " ((1, 25), 0.7907899015688777),\n",
              " ((1, 27), 0.687810624864079),\n",
              " ((1, 28), 0.9538803963852664),\n",
              " ((1, 31), 0.8889425699003946),\n",
              " ((1, 32), 0.4665017141836859),\n",
              " ((1, 34), 0.21169603753113186),\n",
              " ((1, 35), 0.6802321768188304),\n",
              " ((1, 38), 0.9390800094869435),\n",
              " ((1, 39), 0.7098981624326511),\n",
              " ((0, 0), 2.123520536236434),\n",
              " ((0, 3), 0.4585398434297325),\n",
              " ((0, 6), 1.0351885591061045),\n",
              " ((0, 7), 1.2859258272104581),\n",
              " ((0, 10), 1.3662407171526503),\n",
              " ((0, 13), 1.1947176247044373),\n",
              " ((0, 14), 1.7855112537674342),\n",
              " ((0, 17), 2.4141944792998054),\n",
              " ((0, 20), 0.719239717993568),\n",
              " ((0, 21), 1.5000112202023919),\n",
              " ((0, 24), 2.0285881317660346),\n",
              " ((0, 27), 1.5606049171982854),\n",
              " ((0, 28), 2.026947777835125),\n",
              " ((0, 30), 1.8988828785829908),\n",
              " ((0, 31), 1.4246814613996392),\n",
              " ((0, 34), 0.8567242377250833),\n",
              " ((0, 35), 1.3712134089673254),\n",
              " ((0, 37), 0.9816896017216997),\n",
              " ((0, 38), 1.524542044782105),\n",
              " ((1, 2), 0.5145039875873461),\n",
              " ((1, 5), 0.562430646125285),\n",
              " ((1, 6), 0.5945917895318884),\n",
              " ((1, 8), 0.8312749607967328),\n",
              " ((1, 9), 0.4366640366050524),\n",
              " ((1, 12), 0.9457078796552079),\n",
              " ((1, 13), 0.5051128300513053),\n",
              " ((1, 15), 0.5511024873186282),\n",
              " ((1, 16), 0.7247455505433642),\n",
              " ((1, 19), 0.7737796066647772),\n",
              " ((1, 20), 0.21202691535149581),\n",
              " ((1, 22), 0.2751235544092629),\n",
              " ((1, 23), 0.8867833080588152),\n",
              " ((1, 26), 0.6038491779009985),\n",
              " ((1, 29), 0.9688996724609529),\n",
              " ((1, 30), 0.9461991992981517),\n",
              " ((1, 33), 0.4898399160472055),\n",
              " ((1, 36), 1.0295097757220821),\n",
              " ((1, 37), 0.6468572188483894)]"
            ]
          },
          "metadata": {},
          "execution_count": 149
        }
      ]
    },
    {
      "cell_type": "code",
      "source": [
        "# Конвертация результата в numpy-матрицу\n",
        "def asmatrix(pairs):\n",
        "    matrix = np.zeros((I, K))\n",
        "    for (i, k), value in pairs:\n",
        "        matrix[i, k] = value\n",
        "    return matrix\n",
        "\n",
        "result_matrix = asmatrix(solution)\n",
        "\n",
        "# Проверка точности\n",
        "reference_solution = small_mat @ big_mat\n",
        "print(\"Проверка:\", np.allclose(reference_solution, result_matrix))"
      ],
      "metadata": {
        "id": "NZLm2DVYPXYB",
        "colab": {
          "base_uri": "https://localhost:8080/"
        },
        "outputId": "a60f0b91-c845-4957-b278-a2d469170e6c"
      },
      "execution_count": 150,
      "outputs": [
        {
          "output_type": "stream",
          "name": "stdout",
          "text": [
            "Проверка: True\n"
          ]
        }
      ]
    }
  ]
}