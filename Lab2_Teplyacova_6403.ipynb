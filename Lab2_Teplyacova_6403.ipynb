{
  "nbformat": 4,
  "nbformat_minor": 0,
  "metadata": {
    "colab": {
      "provenance": []
    },
    "kernelspec": {
      "name": "python3",
      "display_name": "Python 3"
    },
    "language_info": {
      "name": "python"
    }
  },
  "cells": [
    {
      "cell_type": "markdown",
      "source": [
        "# Задание\n",
        "Сформировать отчёт с информацией о 10 наиболее популярных языках программирования по итогам года за период с 2010 по 2020 годы. Отчёт будет отражать динамику изменения популярности языков программирования и представлять собой набор таблиц \"топ-10\" для каждого года.\n",
        "\n",
        "Получившийся отчёт сохранить в формате Apache Parquet.\n",
        "\n",
        "Для выполнения задания используется RDD API."
      ],
      "metadata": {
        "id": "ICdM_yjEDwx2"
      }
    },
    {
      "cell_type": "code",
      "source": [
        "from pyspark.sql import SparkSession\n",
        "from pyspark.sql.functions import col, explode, split, regexp_replace, year, count, row_number\n",
        "from pyspark.sql.window import Window\n",
        "from pyspark.sql.types import StructType, StructField, StringType\n",
        "import xml.etree.ElementTree as ET"
      ],
      "metadata": {
        "id": "uFPcKRxYDdh5"
      },
      "execution_count": 56,
      "outputs": []
    },
    {
      "cell_type": "code",
      "source": [
        "# Инициализация SparkSession\n",
        "spark = SparkSession.builder.appName(\"ProgrammingLanguagesAnalysis\").getOrCreate()\n",
        "\n",
        "# Пути к данным\n",
        "posts_path = \"posts_sample.xml\"\n",
        "languages_path = \"programming-languages.csv\"\n",
        "\n",
        "# Диапазон лет и топ-N\n",
        "years = list(range(2010, 2021))\n",
        "top_count = 10"
      ],
      "metadata": {
        "id": "I_RVZPFI5kZn"
      },
      "execution_count": 57,
      "outputs": []
    },
    {
      "cell_type": "markdown",
      "source": [
        "# Подзадачи \"Преобразовать любой файл набора данных stackoverflow в parquet формат c помощью Apache Spark.\":\n",
        "1. создать объект типа RDD для текстового файла /data/stackoverflow/posts.xml\n",
        "2. добавить к каждому объекту индекс .zipWithIndex\n",
        "3. убрать из коллекции строки 1, 2 и последню фильтрацией по индексу\n",
        "4. из отфильтрованной коллекции строк получить коллекцию объектов scala.xml.Elem применением метода scala.xml.XML.loadString к каждой строке 5a) определить класс-схему таблицы с именами и типами, соответствующими атрибутам и типам значений строк в xml, используя case class 5b) преобразовать коллекцию scala.xml.Elem в коллекцию объектов вновь созданного типа\n",
        "5. создать Dataset на основе коллекции объектов класса-схемы методом spark.createDataset\n",
        "6. сохранить таблицу в parquet файл"
      ],
      "metadata": {
        "id": "LI1J9bCpDI8-"
      }
    },
    {
      "cell_type": "code",
      "source": [
        "# === 1. Создать объект типа RDD для текстового файла ===\n",
        "rdd = spark.read.text(posts_path).rdd.map(lambda x: x[0])"
      ],
      "metadata": {
        "id": "ohEOC5cjEG1m"
      },
      "execution_count": 58,
      "outputs": []
    },
    {
      "cell_type": "code",
      "source": [
        "# === 2. Добавить к каждому объекту индекс .zipWithIndex ===\n",
        "rdd_indexed = rdd.zipWithIndex()"
      ],
      "metadata": {
        "id": "2pjWwaFIEI_y"
      },
      "execution_count": 59,
      "outputs": []
    },
    {
      "cell_type": "code",
      "source": [
        "# === 3. Убрать из коллекции строки 1, 2 и последню фильтрацией по индексу ===\n",
        "total_rows = rdd_indexed.count()\n",
        "rdd_filtered = rdd_indexed.filter(lambda x: 1 < x[1] < total_rows - 1).map(lambda x: x[0])"
      ],
      "metadata": {
        "id": "FtB71Dc7EKig"
      },
      "execution_count": 60,
      "outputs": []
    },
    {
      "cell_type": "code",
      "source": [
        "# === 4. Преобразовать строки в XML-объекты ===\n",
        "def parse_xml(line):\n",
        "    try:\n",
        "        root = ET.fromstring(line)\n",
        "        return (\n",
        "            root.attrib.get(\"Id\", \"\"),\n",
        "            root.attrib.get(\"CreationDate\", \"\"),\n",
        "            root.attrib.get(\"Tags\", \"\")\n",
        "        )\n",
        "    except:\n",
        "        return None\n",
        "\n",
        "rdd_parsed = rdd_filtered.map(parse_xml).filter(lambda x: x is not None)"
      ],
      "metadata": {
        "id": "9moIIgEnEM-k"
      },
      "execution_count": 61,
      "outputs": []
    },
    {
      "cell_type": "code",
      "source": [
        "# === 5а. Определить класс-схему ===\n",
        "schema = StructType([\n",
        "    StructField(\"Id\", StringType(), True),\n",
        "    StructField(\"CreationDate\", StringType(), True),\n",
        "    StructField(\"Tags\", StringType(), True)\n",
        "])"
      ],
      "metadata": {
        "id": "-SD9bX1wEOfp"
      },
      "execution_count": 62,
      "outputs": []
    },
    {
      "cell_type": "code",
      "source": [
        "# === 5б. Преобразовать RDD в DataFrame ===\n",
        "df = spark.createDataFrame(rdd_parsed, schema)"
      ],
      "metadata": {
        "id": "8ht4Olr5EPsH"
      },
      "execution_count": 63,
      "outputs": []
    },
    {
      "cell_type": "code",
      "source": [
        "# Обработка данных\n",
        "df = df.withColumn(\"Year\", year(col(\"CreationDate\")))\n",
        "df = df.withColumn(\"Tags\", regexp_replace(col(\"Tags\"), \"[<>]\", \"\"))\n",
        "df = df.withColumn(\"Tags\", split(col(\"Tags\"), \" \"))\n",
        "df_exploded = df.select(\"Year\", explode(col(\"Tags\")).alias(\"Language\"))\n",
        "\n",
        "# Загрузка списка языков программирования\n",
        "languages_df = spark.read.option(\"header\", \"true\").csv(languages_path)\n",
        "languages_list = [row[0].lower() for row in languages_df.collect()]\n",
        "df_filtered = df_exploded.filter((col(\"Year\").isin(years)) & (col(\"Language\").isin(languages_list))).cache()\n",
        "\n",
        "# Подсчёт количества упоминаний языков по годам\n",
        "df_count = df_filtered.groupBy(\"Year\", \"Language\").agg(count(\"Language\").alias(\"Count\"))\n",
        "\n",
        "# === 5. Создать Dataset на основе коллекции объектов класса-схемы ===\n",
        "window_spec = Window.partitionBy(\"Year\").orderBy(col(\"Count\").desc())\n",
        "df_top = df_count.withColumn(\"Rank\", row_number().over(window_spec)).filter(col(\"Rank\") <= top_count)"
      ],
      "metadata": {
        "id": "1R-AhstNEYVI"
      },
      "execution_count": 64,
      "outputs": []
    },
    {
      "cell_type": "code",
      "source": [
        "# === 6. Сохранение в Parquet ===\n",
        "df_top.write.mode(\"overwrite\").parquet(\"top10_languages.parquet\")\n",
        "df.write.mode(\"overwrite\").parquet(\"parsed_posts.parquet\")\n",
        "\n",
        "# Вывод результатов\n",
        "df_top.orderBy(\"Year\", col(\"Count\").desc()).show(len(years) * top_count)"
      ],
      "metadata": {
        "colab": {
          "base_uri": "https://localhost:8080/"
        },
        "id": "-abKxRiqETzp",
        "outputId": "9371736d-b3c9-4af0-ecb9-0edd90fae026"
      },
      "execution_count": 65,
      "outputs": [
        {
          "output_type": "stream",
          "name": "stdout",
          "text": [
            "+----+-----------+-----+----+\n",
            "|Year|   Language|Count|Rank|\n",
            "+----+-----------+-----+----+\n",
            "|2010|        php|    7|   1|\n",
            "|2010|     python|    4|   2|\n",
            "|2010|          c|    3|   3|\n",
            "|2010|       java|    2|   4|\n",
            "|2010|         go|    1|   5|\n",
            "|2010|        ksh|    1|   6|\n",
            "|2011|       java|    7|   1|\n",
            "|2011|        php|    6|   2|\n",
            "|2011|     python|    5|   3|\n",
            "|2011|          c|    5|   4|\n",
            "|2011| javascript|    4|   5|\n",
            "|2011|objective-c|    1|   6|\n",
            "|2011|       ruby|    1|   7|\n",
            "|2011|       cuda|    1|   8|\n",
            "|2011|    haskell|    1|   9|\n",
            "|2011|     delphi|    1|  10|\n",
            "|2012|        php|   17|   1|\n",
            "|2012| javascript|    7|   2|\n",
            "|2012|       java|    5|   3|\n",
            "|2012|          c|    5|   4|\n",
            "|2012|     python|    4|   5|\n",
            "|2012|      scala|    3|   6|\n",
            "|2012|       ruby|    3|   7|\n",
            "|2012|objective-c|    2|   8|\n",
            "|2012|          r|    2|   9|\n",
            "|2012|       bash|    1|  10|\n",
            "|2013| javascript|   15|   1|\n",
            "|2013|        php|   13|   2|\n",
            "|2013|       java|   10|   3|\n",
            "|2013|          r|    8|   4|\n",
            "|2013|          c|    6|   5|\n",
            "|2013|     python|    3|   6|\n",
            "|2013|       perl|    3|   7|\n",
            "|2013|     matlab|    2|   8|\n",
            "|2013|      scala|    2|   9|\n",
            "|2013|     delphi|    2|  10|\n",
            "|2014|       java|   17|   1|\n",
            "|2014| javascript|   12|   2|\n",
            "|2014|     python|    8|   3|\n",
            "|2014|          c|    7|   4|\n",
            "|2014|          r|    6|   5|\n",
            "|2014|        php|    5|   6|\n",
            "|2014|       bash|    3|   7|\n",
            "|2014|     matlab|    3|   8|\n",
            "|2014|         go|    2|   9|\n",
            "|2014| powershell|    2|  10|\n",
            "|2015|       java|   13|   1|\n",
            "|2015| javascript|    8|   2|\n",
            "|2015|     python|    6|   3|\n",
            "|2015|        php|    6|   4|\n",
            "|2015|       bash|    4|   5|\n",
            "|2015|          c|    4|   6|\n",
            "|2015|          r|    3|   7|\n",
            "|2015|     matlab|    2|   8|\n",
            "|2015|        sas|    2|   9|\n",
            "|2015|      scala|    2|  10|\n",
            "|2016| javascript|   13|   1|\n",
            "|2016|       java|    9|   2|\n",
            "|2016|        php|    9|   3|\n",
            "|2016|     python|    7|   4|\n",
            "|2016|          r|    6|   5|\n",
            "|2016| powershell|    3|   6|\n",
            "|2016| coldfusion|    2|   7|\n",
            "|2016|     matlab|    2|   8|\n",
            "|2016|       ruby|    2|   9|\n",
            "|2016|    haskell|    2|  10|\n",
            "|2017|       java|   18|   1|\n",
            "|2017| javascript|   13|   2|\n",
            "|2017|        php|    8|   3|\n",
            "|2017|     python|    8|   4|\n",
            "|2017|          r|    7|   5|\n",
            "|2017| powershell|    6|   6|\n",
            "|2017|       perl|    3|   7|\n",
            "|2017|          c|    3|   8|\n",
            "|2017|     matlab|    2|   9|\n",
            "|2017|       bash|    2|  10|\n",
            "|2018| javascript|   12|   1|\n",
            "|2018|     python|   11|   2|\n",
            "|2018|       java|   10|   3|\n",
            "|2018|          r|    8|   4|\n",
            "|2018|        php|    7|   5|\n",
            "|2018|          c|    4|   6|\n",
            "|2018|       bash|    3|   7|\n",
            "|2018|      scala|    3|   8|\n",
            "|2018| powershell|    2|   9|\n",
            "|2018|       rust|    2|  10|\n",
            "|2019|     python|    9|   1|\n",
            "|2019|        php|    7|   2|\n",
            "|2019|          r|    7|   3|\n",
            "|2019| javascript|    7|   4|\n",
            "|2019|       java|    6|   5|\n",
            "|2019|         go|    4|   6|\n",
            "|2019|       perl|    2|   7|\n",
            "|2019|          c|    2|   8|\n",
            "|2019|      latex|    2|   9|\n",
            "|2019| typescript|    1|  10|\n",
            "+----+-----------+-----+----+\n",
            "\n"
          ]
        }
      ]
    }
  ]
}