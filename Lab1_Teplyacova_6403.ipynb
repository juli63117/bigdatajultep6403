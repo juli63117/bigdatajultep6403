{
  "nbformat": 4,
  "nbformat_minor": 0,
  "metadata": {
    "colab": {
      "provenance": []
    },
    "kernelspec": {
      "name": "python3",
      "display_name": "Python 3"
    },
    "language_info": {
      "name": "python"
    }
  },
  "cells": [
    {
      "cell_type": "code",
      "source": [
        "# Подключение PySpark\n",
        "from pyspark import SparkContext, SparkConf\n",
        "from pyspark.sql import SparkSession\n",
        "from pyspark.sql import functions as F\n",
        "from pyspark.sql.types import IntegerType, DoubleType\n",
        "\n",
        "# Настройка Spark\n",
        "conf = SparkConf().setAppName(\"Bike_Analysis\").setMaster(\"local[*]\")\n",
        "\n",
        "# Подключение существующего SparkContext и создание SparkSession\n",
        "sc = SparkContext.getOrCreate()\n",
        "spark = SparkSession(sc)"
      ],
      "metadata": {
        "id": "NHpZCCj75xrX"
      },
      "execution_count": 18,
      "outputs": []
    },
    {
      "cell_type": "code",
      "source": [
        "# Загрузка данных\n",
        "trips_df = spark.read.csv(\"/content/drive/MyDrive/trips.csv\", header=True, inferSchema=True)\n",
        "stations_df = spark.read.csv(\"/content/drive/MyDrive/stations.csv\", header=True, inferSchema=True)"
      ],
      "metadata": {
        "id": "1WYDeqlN6Z7n"
      },
      "execution_count": 19,
      "outputs": []
    },
    {
      "cell_type": "markdown",
      "source": [
        "# 1. Найти велосипед с максимальным временем пробега"
      ],
      "metadata": {
        "id": "beeTeyCQ6vT5"
      }
    },
    {
      "cell_type": "code",
      "execution_count": 20,
      "metadata": {
        "id": "iEHZNofYyuyw",
        "outputId": "2974f6e4-00d1-4714-cac1-f5167a2b568d",
        "colab": {
          "base_uri": "https://localhost:8080/"
        }
      },
      "outputs": [
        {
          "output_type": "stream",
          "name": "stdout",
          "text": [
            "Велосипед с максимальным временем пробега: 535\n",
            "Время пробега: 18611693 сек\n"
          ]
        }
      ],
      "source": [
        "# Группировка велосипедов по id, где каждому id соответствует его общее время пробега\n",
        "# Сортировка результатов по значению общего времени пробега (самый максимальный сверху)\n",
        "# Возвращение первого элемента в отсортированном списке\n",
        "bike_max_duration = (\n",
        "    trips_df.groupBy(\"bike_id\")\n",
        "    .agg(F.sum(\"duration\").alias(\"total_duration\"))\n",
        "    .orderBy(F.desc(\"total_duration\"))\n",
        "    .first()\n",
        ")\n",
        "print(f\"Велосипед с максимальным временем пробега: {bike_max_duration['bike_id']}\\nВремя пробега: {bike_max_duration['total_duration']} сек\")"
      ]
    },
    {
      "cell_type": "markdown",
      "source": [
        "# 2. Найти наибольшее геодезическое расстояние между станциями"
      ],
      "metadata": {
        "id": "qFHqtICO6825"
      }
    },
    {
      "cell_type": "markdown",
      "source": [
        "![haversine.png](data:image/png;base64,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)"
      ],
      "metadata": {
        "id": "3k2qX_36FxZW"
      }
    },
    {
      "cell_type": "code",
      "source": [
        "from math import radians, sin, cos, sqrt, atan2\n",
        "\n",
        "def haversine(lat1, lon1, lat2, lon2):\n",
        "    R = 6371 # Радиус Земли (км)\n",
        "    lat1, lon1, lat2, lon2 = map(radians, [lat1, lon1, lat2, lon2]) # Преобразование градусов в радианы\n",
        "\n",
        "    # Вычисление разности широт и долгот\n",
        "    dlat = lat2 - lat1\n",
        "    dlon = lon2 - lon1\n",
        "\n",
        "    # Вычисление наибольшего расстояния по формуле хаверсина\n",
        "    a = sin(dlat/2)**2 + cos(lat1) * cos(lat2) * sin(dlon/2)**2\n",
        "    return 2 * R * atan2(sqrt(a), sqrt(1 - a))\n",
        "\n",
        "# Извлечение необходимых столбцов из stations_df, формирование списка\n",
        "stations_list = stations_df.select(\"id\", \"name\", \"lat\", \"long\").collect()\n",
        "max_distance = 0\n",
        "station_a, station_b = None, None\n",
        "\n",
        "for i in range(len(stations_list)):\n",
        "    for j in range(i + 1, len(stations_list)):\n",
        "        dist = haversine(\n",
        "            stations_list[i][\"lat\"], stations_list[i][\"long\"],\n",
        "            stations_list[j][\"lat\"], stations_list[j][\"long\"]\n",
        "        )\n",
        "        if dist > max_distance:\n",
        "            max_distance = dist\n",
        "            station_a = stations_list[i][\"name\"]\n",
        "            station_b = stations_list[j][\"name\"]\n",
        "\n",
        "print(f\"Наибольшее расстояние: {max_distance:.2f} км между станциями {station_a} и {station_b}\")"
      ],
      "metadata": {
        "colab": {
          "base_uri": "https://localhost:8080/"
        },
        "id": "Y6VKujmh66wu",
        "outputId": "e58a862f-8e13-4a77-d7ec-1dcda03bbd40"
      },
      "execution_count": 21,
      "outputs": [
        {
          "output_type": "stream",
          "name": "stdout",
          "text": [
            "Наибольшее расстояние: 69.92 км между станциями SJSU - San Salvador at 9th и Embarcadero at Sansome\n"
          ]
        }
      ]
    },
    {
      "cell_type": "markdown",
      "source": [
        "# 3. Найти путь велосипеда с максимальным временем пробега"
      ],
      "metadata": {
        "id": "mZe2GhJM7BeR"
      }
    },
    {
      "cell_type": "code",
      "source": [
        "# Фильтрование значений - только для определенного bike_id\n",
        "# Выборка уникальных значений начальной и конечной станций (чтобы не было одинаковых путей)\n",
        "bike_path_df = (\n",
        "    trips_df.filter(F.col(\"bike_id\") == bike_max_duration[\"bike_id\"])\n",
        "    .select(\"start_station_name\", \"end_station_name\")\n",
        "    .distinct()\n",
        ")\n",
        "print(f'Путь велосипеда {bike_max_duration[\"bike_id\"]} через станции:')\n",
        "bike_path_df.show(truncate=False)"
      ],
      "metadata": {
        "colab": {
          "base_uri": "https://localhost:8080/"
        },
        "id": "AeTwq-cl7AVM",
        "outputId": "b6a31f3e-0d4d-4422-e667-d89adf8c13f3"
      },
      "execution_count": 22,
      "outputs": [
        {
          "output_type": "stream",
          "name": "stdout",
          "text": [
            "Путь велосипеда 535 через станции:\n",
            "+----------------------------------------+----------------------------------------+\n",
            "|start_station_name                      |end_station_name                        |\n",
            "+----------------------------------------+----------------------------------------+\n",
            "|Golden Gate at Polk                     |Steuart at Market                       |\n",
            "|2nd at Folsom                           |San Francisco Caltrain (Townsend at 4th)|\n",
            "|Market at 10th                          |Market at 10th                          |\n",
            "|Grant Avenue at Columbus Avenue         |Powell at Post (Union Square)           |\n",
            "|San Francisco Caltrain (Townsend at 4th)|Steuart at Market                       |\n",
            "|Embarcadero at Bryant                   |Davis at Jackson                        |\n",
            "|Powell Street BART                      |Civic Center BART (7th at Market)       |\n",
            "|Harry Bridges Plaza (Ferry Building)    |Grant Avenue at Columbus Avenue         |\n",
            "|Washington at Kearney                   |Embarcadero at Sansome                  |\n",
            "|Powell Street BART                      |Embarcadero at Sansome                  |\n",
            "|Powell Street BART                      |2nd at Folsom                           |\n",
            "|2nd at South Park                       |Townsend at 7th                         |\n",
            "|2nd at Folsom                           |Mechanics Plaza (Market at Battery)     |\n",
            "|Embarcadero at Bryant                   |San Francisco Caltrain 2 (330 Townsend) |\n",
            "|2nd at Folsom                           |Steuart at Market                       |\n",
            "|2nd at South Park                       |2nd at Townsend                         |\n",
            "|San Francisco Caltrain (Townsend at 4th)|Howard at 2nd                           |\n",
            "|Commercial at Montgomery                |Market at 10th                          |\n",
            "|Embarcadero at Bryant                   |2nd at Folsom                           |\n",
            "|San Francisco Caltrain (Townsend at 4th)|2nd at South Park                       |\n",
            "+----------------------------------------+----------------------------------------+\n",
            "only showing top 20 rows\n",
            "\n"
          ]
        }
      ]
    },
    {
      "cell_type": "markdown",
      "source": [
        "# 4. Найти количество велосипедов в системе"
      ],
      "metadata": {
        "id": "Kj0ljs587GST"
      }
    },
    {
      "cell_type": "code",
      "source": [
        "# Рассчет количества только уникальных bike_id\n",
        "num_bikes = trips_df.select(\"bike_id\").distinct().count()\n",
        "print(f\"Общее количество велосипедов: {num_bikes}\")"
      ],
      "metadata": {
        "colab": {
          "base_uri": "https://localhost:8080/"
        },
        "id": "dR5y7jvO7FbL",
        "outputId": "3d4361bb-48e0-4642-a0c1-5b29842a58c9"
      },
      "execution_count": 23,
      "outputs": [
        {
          "output_type": "stream",
          "name": "stdout",
          "text": [
            "Общее количество велосипедов: 700\n"
          ]
        }
      ]
    },
    {
      "cell_type": "markdown",
      "source": [
        "# 5. Найти пользователей, потративших более 3 часов на поездки"
      ],
      "metadata": {
        "id": "LNI9W5Aa7Iyu"
      }
    },
    {
      "cell_type": "code",
      "source": [
        "# Группировка данных по почтовым индексам (zip_code)\n",
        "# Подсчет общей продолжительности поездок для каждого почтового индекса\n",
        "# Фильтрация групп, где общая продолжительность поездок превышает 3 часа (10800 секунд)\n",
        "# Выбор только столбца с почтовыми индексами\n",
        "users_over_3_hours = (\n",
        "    trips_df.groupBy(\"zip_code\")\n",
        "    .agg(F.sum(\"duration\").alias(\"total_duration\"))\n",
        "    .filter(F.col(\"total_duration\") > 10800)\n",
        "    .select(\"zip_code\")\n",
        ")\n",
        "print(\"Пользователи, потратившие более 3 часов:\")\n",
        "users_over_3_hours.show()"
      ],
      "metadata": {
        "colab": {
          "base_uri": "https://localhost:8080/"
        },
        "id": "jf-O64dR7IfN",
        "outputId": "9db61607-68d5-440a-82cc-03723ac3d511"
      },
      "execution_count": 24,
      "outputs": [
        {
          "output_type": "stream",
          "name": "stdout",
          "text": [
            "Пользователи, потратившие более 3 часов:\n",
            "+--------+\n",
            "|zip_code|\n",
            "+--------+\n",
            "|   94102|\n",
            "|   95134|\n",
            "|   84606|\n",
            "|   80305|\n",
            "|   60070|\n",
            "|   95519|\n",
            "|   43085|\n",
            "|   91910|\n",
            "|   77339|\n",
            "|   48063|\n",
            "|   85022|\n",
            "|    1090|\n",
            "|    2136|\n",
            "|   11722|\n",
            "|   95138|\n",
            "|   94610|\n",
            "|   94404|\n",
            "|   80301|\n",
            "|   91326|\n",
            "|   90742|\n",
            "+--------+\n",
            "only showing top 20 rows\n",
            "\n"
          ]
        }
      ]
    }
  ]
}